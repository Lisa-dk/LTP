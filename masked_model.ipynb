{
 "cells": [
  {
   "cell_type": "markdown",
   "metadata": {
    "id": "nFdp4MWOEHJ-"
   },
   "source": [
    "[![Open In Colab](https://colab.research.google.com/assets/colab-badge.svg)](https://colab.research.google.com/github/alina-dima/nlp/blob/main/Machine_translation.ipynb)"
   ]
  },
  {
   "cell_type": "code",
   "execution_count": null,
   "metadata": {
    "id": "osEw7gcGG673"
   },
   "outputs": [],
   "source": [
    "!pip install datasets transformers\n",
    "\n",
    "import datasets\n",
    "import numpy as np\n",
    "import ast\n",
    "from transformers import AutoModelForMaskedLM, AutoTokenizer\n",
    "import torch"
   ]
  },
  {
   "cell_type": "code",
   "execution_count": 13,
   "metadata": {
    "colab": {
     "base_uri": "https://localhost:8080/",
     "height": 423,
     "referenced_widgets": [
      "87b68c3eb4a14cf582d6426d928dcdf9",
      "2a46ec44976e44d483f3ed8e7e2085ea",
      "eb11f887f5a842d5a1c78c029cc6686b",
      "9ec11e00322c4009b5673299b170a9dc",
      "5a0a7867c315425ea91e81168ceb59c8",
      "7f9c63b498774e06924b91ebeaf95706",
      "e8cbc5ce365848c9b7c27b1eef793a1d",
      "ed62014ec32c4781b2fe8bfe1d03ebe0",
      "fa1fd185ee7246229d6f4d2ce8880334",
      "ca770ba5d52f42e685dd74308cc8cea9",
      "cfe70de5c3774ee2b4c9e70addd9a3e9"
     ]
    },
    "id": "FU4Sg_39G679",
    "outputId": "e391eb36-ca11-4704-bf7d-fe2b6fdbd3ce",
    "ExecuteTime": {
     "end_time": "2023-05-25T12:18:41.047275Z",
     "start_time": "2023-05-25T12:18:39.599738Z"
    }
   },
   "outputs": [
    {
     "name": "stderr",
     "output_type": "stream",
     "text": [
      "No config specified, defaulting to: touche23-value_eval/main\n",
      "Found cached dataset touche23-value_eval (/Users/andreeaioanatudor/.cache/huggingface/datasets/webis___touche23-value_eval/main/0.0.2/109738f7f54e5a68f95e3d0b4d07797f6b7e558edce5e29c71cf0668208bfa43)\n",
      "100%|██████████| 3/3 [00:00<00:00, 105.91it/s]\n"
     ]
    },
    {
     "data": {
      "text/plain": "  Argument ID                                   Conclusion       Stance   \n0      A01002                  We should ban human cloning  in favor of  \\\n1      A01005                      We should ban fast food  in favor of   \n2      A01006  We should end the use of economic sanctions      against   \n3      A01007         We should abolish capital punishment      against   \n4      A01008                We should ban factory farming      against   \n\n                                             Premise   \n0  we should ban human cloning as it will only ca...  \\\n1  fast food should be banned because it is reall...   \n2  sometimes economic sanctions are the only thin...   \n3  capital punishment is sometimes the only optio...   \n4  factory farming allows for the production of c...   \n\n                                              Labels   \n0  [0, 0, 0, 0, 0, 0, 0, 0, 0, 1, 0, 0, 0, 0, 0, ...  \\\n1  [0, 0, 0, 0, 0, 0, 0, 0, 1, 0, 0, 0, 0, 0, 0, ...   \n2  [0, 0, 0, 0, 0, 1, 0, 0, 0, 1, 0, 0, 0, 0, 0, ...   \n3  [0, 0, 0, 0, 0, 0, 0, 0, 0, 1, 0, 1, 0, 0, 0, ...   \n4  [0, 0, 0, 0, 0, 0, 0, 0, 1, 0, 0, 0, 0, 0, 1, ...   \n\n                   Labels_text   \n0                   [societal]  \\\n1                   [personal]   \n2        [dominance, societal]   \n3   [societal, rules, concern]   \n4  [personal, caring, concern]   \n\n                                          Argument_1  \n0  The premise we should ban human cloning as it ...  \n1  The premise fast food should be banned because...  \n2  The premise sometimes economic sanctions are t...  \n3  The premise capital punishment is sometimes th...  \n4  The premise factory farming allows for the pro...  ",
      "text/html": "<div>\n<style scoped>\n    .dataframe tbody tr th:only-of-type {\n        vertical-align: middle;\n    }\n\n    .dataframe tbody tr th {\n        vertical-align: top;\n    }\n\n    .dataframe thead th {\n        text-align: right;\n    }\n</style>\n<table border=\"1\" class=\"dataframe\">\n  <thead>\n    <tr style=\"text-align: right;\">\n      <th></th>\n      <th>Argument ID</th>\n      <th>Conclusion</th>\n      <th>Stance</th>\n      <th>Premise</th>\n      <th>Labels</th>\n      <th>Labels_text</th>\n      <th>Argument_1</th>\n    </tr>\n  </thead>\n  <tbody>\n    <tr>\n      <th>0</th>\n      <td>A01002</td>\n      <td>We should ban human cloning</td>\n      <td>in favor of</td>\n      <td>we should ban human cloning as it will only ca...</td>\n      <td>[0, 0, 0, 0, 0, 0, 0, 0, 0, 1, 0, 0, 0, 0, 0, ...</td>\n      <td>[societal]</td>\n      <td>The premise we should ban human cloning as it ...</td>\n    </tr>\n    <tr>\n      <th>1</th>\n      <td>A01005</td>\n      <td>We should ban fast food</td>\n      <td>in favor of</td>\n      <td>fast food should be banned because it is reall...</td>\n      <td>[0, 0, 0, 0, 0, 0, 0, 0, 1, 0, 0, 0, 0, 0, 0, ...</td>\n      <td>[personal]</td>\n      <td>The premise fast food should be banned because...</td>\n    </tr>\n    <tr>\n      <th>2</th>\n      <td>A01006</td>\n      <td>We should end the use of economic sanctions</td>\n      <td>against</td>\n      <td>sometimes economic sanctions are the only thin...</td>\n      <td>[0, 0, 0, 0, 0, 1, 0, 0, 0, 1, 0, 0, 0, 0, 0, ...</td>\n      <td>[dominance, societal]</td>\n      <td>The premise sometimes economic sanctions are t...</td>\n    </tr>\n    <tr>\n      <th>3</th>\n      <td>A01007</td>\n      <td>We should abolish capital punishment</td>\n      <td>against</td>\n      <td>capital punishment is sometimes the only optio...</td>\n      <td>[0, 0, 0, 0, 0, 0, 0, 0, 0, 1, 0, 1, 0, 0, 0, ...</td>\n      <td>[societal, rules, concern]</td>\n      <td>The premise capital punishment is sometimes th...</td>\n    </tr>\n    <tr>\n      <th>4</th>\n      <td>A01008</td>\n      <td>We should ban factory farming</td>\n      <td>against</td>\n      <td>factory farming allows for the production of c...</td>\n      <td>[0, 0, 0, 0, 0, 0, 0, 0, 1, 0, 0, 0, 0, 0, 1, ...</td>\n      <td>[personal, caring, concern]</td>\n      <td>The premise factory farming allows for the pro...</td>\n    </tr>\n  </tbody>\n</table>\n</div>"
     },
     "execution_count": 13,
     "metadata": {},
     "output_type": "execute_result"
    }
   ],
   "source": [
    "def labels_to_text(labels_string):\n",
    "    return [label_values_single[i] for i in range(len(label_values_single)) if labels_string[i] == 1]\n",
    "\n",
    "def create_argument_1(row):\n",
    "    conclusion = row['Conclusion'].rstrip('.').lower()\n",
    "    premise = row['Premise'].rstrip('.').lower()\n",
    "    stance = row['Stance']\n",
    "    argument = f\"The premise {premise} is {stance} the conclusion that {conclusion}. The human values {', '.join(row['Labels_text'])} support this argument.\"\n",
    "    return argument\n",
    "\n",
    "    \n",
    "data = datasets.load_dataset('webis/Touche23-ValueEval')\n",
    "label_values = [\"Self-direction: thought\", \"Self-direction: action\", \"Stimulation\", \"Hedonism\", \"Achievement\", \"Power: dominance\", \"Power: resources\", \"Face\", \"Security: personal\", \"Security: societal\", \"Tradition\", \"Conformity: rules\", \"Conformity: interpersonal\", \"Humility\", \"Benevolence: caring\", \"Benevolence: dependability\", \"Universalism: concern\", \"Universalism: nature\", \"Universalism: tolerance\", \"Universalism: objectivity\"]\n",
    "label_values_single = [\"thought\", \"action\", \"Stimulation\", \"Hedonism\", \"Achievement\", \"dominance\", \"resources\", \"Face\", \"personal\", \"societal\", \"Tradition\", \"rules\", \"interpersonal\", \"Humility\", \"caring\", \"dependability\", \"concern\", \"nature\", \"tolerance\", \"objectivity\"]\n",
    "\n",
    "data_train = data['train'].to_pandas()\n",
    "data_train['Labels_text'] = data_train['Labels'].map(lambda x: labels_to_text(x))\n",
    "\n",
    "data_train[\"Argument_1\"] = data_train.apply(create_argument_1, axis=1)\n",
    "\n",
    "data_train.head()\n"
   ]
  },
  {
   "cell_type": "markdown",
   "metadata": {
    "id": "PXn8AqoFG67-"
   },
   "source": [
    "# Model for mask prediction"
   ]
  },
  {
   "cell_type": "code",
   "execution_count": 15,
   "metadata": {
    "colab": {
     "base_uri": "https://localhost:8080/"
    },
    "id": "cqxBI8UXG67_",
    "outputId": "666f02e3-2d40-48ee-d2da-e7b010776603",
    "ExecuteTime": {
     "end_time": "2023-05-25T12:25:30.962769Z",
     "start_time": "2023-05-25T12:25:29.707458Z"
    }
   },
   "outputs": [
    {
     "name": "stdout",
     "output_type": "stream",
     "text": [
      "Correct: societal\n",
      "foundation\n",
      "theory\n",
      "association\n",
      "society\n",
      "forum\n"
     ]
    }
   ],
   "source": [
    "model_checkpoint = \"distilbert-base-uncased\"\n",
    "distilbert_model = AutoModelForMaskedLM.from_pretrained(model_checkpoint)\n",
    "distilbert_tokenizer = AutoTokenizer.from_pretrained(model_checkpoint)\n",
    "\n",
    "text = '''The premise we should ban human cloning as it will only cause huge issues when you have a bunch of the same humans \n",
    "        running around all acting the same is in favor of the conclusion that we should ban human cloning. \n",
    "        The human value [MASK] supports this argument.'''\n",
    "\n",
    "inputs = distilbert_tokenizer(text, return_tensors=\"pt\")\n",
    "token_logits = distilbert_model(**inputs).logits\n",
    "# Find the location of [MASK] and extract its logits\n",
    "mask_token_index = torch.where(inputs[\"input_ids\"] == distilbert_tokenizer.mask_token_id)[1]\n",
    "mask_token_logits = token_logits[0, mask_token_index, :]\n",
    "# Pick the [MASK] candidates with the highest logits\n",
    "top_5_tokens = torch.topk(mask_token_logits, 5, dim=1).indices[0].tolist()\n",
    "\n",
    "\n",
    "print(\"Correct: societal\")\n",
    "for token in top_5_tokens:\n",
    "    print(distilbert_tokenizer.decode([token]))"
   ]
  }
 ],
 "metadata": {
  "kernelspec": {
   "display_name": "Python 3",
   "language": "python",
   "name": "python3"
  },
  "language_info": {
   "codemirror_mode": {
    "name": "ipython",
    "version": 3
   },
   "file_extension": ".py",
   "mimetype": "text/x-python",
   "name": "python",
   "nbconvert_exporter": "python",
   "pygments_lexer": "ipython3",
   "version": "3.10.0"
  },
  "orig_nbformat": 4,
  "colab": {
   "provenance": []
  },
  "widgets": {
   "application/vnd.jupyter.widget-state+json": {
    "87b68c3eb4a14cf582d6426d928dcdf9": {
     "model_module": "@jupyter-widgets/controls",
     "model_name": "HBoxModel",
     "model_module_version": "1.5.0",
     "state": {
      "_dom_classes": [],
      "_model_module": "@jupyter-widgets/controls",
      "_model_module_version": "1.5.0",
      "_model_name": "HBoxModel",
      "_view_count": null,
      "_view_module": "@jupyter-widgets/controls",
      "_view_module_version": "1.5.0",
      "_view_name": "HBoxView",
      "box_style": "",
      "children": [
       "IPY_MODEL_2a46ec44976e44d483f3ed8e7e2085ea",
       "IPY_MODEL_eb11f887f5a842d5a1c78c029cc6686b",
       "IPY_MODEL_9ec11e00322c4009b5673299b170a9dc"
      ],
      "layout": "IPY_MODEL_5a0a7867c315425ea91e81168ceb59c8"
     }
    },
    "2a46ec44976e44d483f3ed8e7e2085ea": {
     "model_module": "@jupyter-widgets/controls",
     "model_name": "HTMLModel",
     "model_module_version": "1.5.0",
     "state": {
      "_dom_classes": [],
      "_model_module": "@jupyter-widgets/controls",
      "_model_module_version": "1.5.0",
      "_model_name": "HTMLModel",
      "_view_count": null,
      "_view_module": "@jupyter-widgets/controls",
      "_view_module_version": "1.5.0",
      "_view_name": "HTMLView",
      "description": "",
      "description_tooltip": null,
      "layout": "IPY_MODEL_7f9c63b498774e06924b91ebeaf95706",
      "placeholder": "​",
      "style": "IPY_MODEL_e8cbc5ce365848c9b7c27b1eef793a1d",
      "value": "100%"
     }
    },
    "eb11f887f5a842d5a1c78c029cc6686b": {
     "model_module": "@jupyter-widgets/controls",
     "model_name": "FloatProgressModel",
     "model_module_version": "1.5.0",
     "state": {
      "_dom_classes": [],
      "_model_module": "@jupyter-widgets/controls",
      "_model_module_version": "1.5.0",
      "_model_name": "FloatProgressModel",
      "_view_count": null,
      "_view_module": "@jupyter-widgets/controls",
      "_view_module_version": "1.5.0",
      "_view_name": "ProgressView",
      "bar_style": "success",
      "description": "",
      "description_tooltip": null,
      "layout": "IPY_MODEL_ed62014ec32c4781b2fe8bfe1d03ebe0",
      "max": 3,
      "min": 0,
      "orientation": "horizontal",
      "style": "IPY_MODEL_fa1fd185ee7246229d6f4d2ce8880334",
      "value": 3
     }
    },
    "9ec11e00322c4009b5673299b170a9dc": {
     "model_module": "@jupyter-widgets/controls",
     "model_name": "HTMLModel",
     "model_module_version": "1.5.0",
     "state": {
      "_dom_classes": [],
      "_model_module": "@jupyter-widgets/controls",
      "_model_module_version": "1.5.0",
      "_model_name": "HTMLModel",
      "_view_count": null,
      "_view_module": "@jupyter-widgets/controls",
      "_view_module_version": "1.5.0",
      "_view_name": "HTMLView",
      "description": "",
      "description_tooltip": null,
      "layout": "IPY_MODEL_ca770ba5d52f42e685dd74308cc8cea9",
      "placeholder": "​",
      "style": "IPY_MODEL_cfe70de5c3774ee2b4c9e70addd9a3e9",
      "value": " 3/3 [00:00&lt;00:00, 58.69it/s]"
     }
    },
    "5a0a7867c315425ea91e81168ceb59c8": {
     "model_module": "@jupyter-widgets/base",
     "model_name": "LayoutModel",
     "model_module_version": "1.2.0",
     "state": {
      "_model_module": "@jupyter-widgets/base",
      "_model_module_version": "1.2.0",
      "_model_name": "LayoutModel",
      "_view_count": null,
      "_view_module": "@jupyter-widgets/base",
      "_view_module_version": "1.2.0",
      "_view_name": "LayoutView",
      "align_content": null,
      "align_items": null,
      "align_self": null,
      "border": null,
      "bottom": null,
      "display": null,
      "flex": null,
      "flex_flow": null,
      "grid_area": null,
      "grid_auto_columns": null,
      "grid_auto_flow": null,
      "grid_auto_rows": null,
      "grid_column": null,
      "grid_gap": null,
      "grid_row": null,
      "grid_template_areas": null,
      "grid_template_columns": null,
      "grid_template_rows": null,
      "height": null,
      "justify_content": null,
      "justify_items": null,
      "left": null,
      "margin": null,
      "max_height": null,
      "max_width": null,
      "min_height": null,
      "min_width": null,
      "object_fit": null,
      "object_position": null,
      "order": null,
      "overflow": null,
      "overflow_x": null,
      "overflow_y": null,
      "padding": null,
      "right": null,
      "top": null,
      "visibility": null,
      "width": null
     }
    },
    "7f9c63b498774e06924b91ebeaf95706": {
     "model_module": "@jupyter-widgets/base",
     "model_name": "LayoutModel",
     "model_module_version": "1.2.0",
     "state": {
      "_model_module": "@jupyter-widgets/base",
      "_model_module_version": "1.2.0",
      "_model_name": "LayoutModel",
      "_view_count": null,
      "_view_module": "@jupyter-widgets/base",
      "_view_module_version": "1.2.0",
      "_view_name": "LayoutView",
      "align_content": null,
      "align_items": null,
      "align_self": null,
      "border": null,
      "bottom": null,
      "display": null,
      "flex": null,
      "flex_flow": null,
      "grid_area": null,
      "grid_auto_columns": null,
      "grid_auto_flow": null,
      "grid_auto_rows": null,
      "grid_column": null,
      "grid_gap": null,
      "grid_row": null,
      "grid_template_areas": null,
      "grid_template_columns": null,
      "grid_template_rows": null,
      "height": null,
      "justify_content": null,
      "justify_items": null,
      "left": null,
      "margin": null,
      "max_height": null,
      "max_width": null,
      "min_height": null,
      "min_width": null,
      "object_fit": null,
      "object_position": null,
      "order": null,
      "overflow": null,
      "overflow_x": null,
      "overflow_y": null,
      "padding": null,
      "right": null,
      "top": null,
      "visibility": null,
      "width": null
     }
    },
    "e8cbc5ce365848c9b7c27b1eef793a1d": {
     "model_module": "@jupyter-widgets/controls",
     "model_name": "DescriptionStyleModel",
     "model_module_version": "1.5.0",
     "state": {
      "_model_module": "@jupyter-widgets/controls",
      "_model_module_version": "1.5.0",
      "_model_name": "DescriptionStyleModel",
      "_view_count": null,
      "_view_module": "@jupyter-widgets/base",
      "_view_module_version": "1.2.0",
      "_view_name": "StyleView",
      "description_width": ""
     }
    },
    "ed62014ec32c4781b2fe8bfe1d03ebe0": {
     "model_module": "@jupyter-widgets/base",
     "model_name": "LayoutModel",
     "model_module_version": "1.2.0",
     "state": {
      "_model_module": "@jupyter-widgets/base",
      "_model_module_version": "1.2.0",
      "_model_name": "LayoutModel",
      "_view_count": null,
      "_view_module": "@jupyter-widgets/base",
      "_view_module_version": "1.2.0",
      "_view_name": "LayoutView",
      "align_content": null,
      "align_items": null,
      "align_self": null,
      "border": null,
      "bottom": null,
      "display": null,
      "flex": null,
      "flex_flow": null,
      "grid_area": null,
      "grid_auto_columns": null,
      "grid_auto_flow": null,
      "grid_auto_rows": null,
      "grid_column": null,
      "grid_gap": null,
      "grid_row": null,
      "grid_template_areas": null,
      "grid_template_columns": null,
      "grid_template_rows": null,
      "height": null,
      "justify_content": null,
      "justify_items": null,
      "left": null,
      "margin": null,
      "max_height": null,
      "max_width": null,
      "min_height": null,
      "min_width": null,
      "object_fit": null,
      "object_position": null,
      "order": null,
      "overflow": null,
      "overflow_x": null,
      "overflow_y": null,
      "padding": null,
      "right": null,
      "top": null,
      "visibility": null,
      "width": null
     }
    },
    "fa1fd185ee7246229d6f4d2ce8880334": {
     "model_module": "@jupyter-widgets/controls",
     "model_name": "ProgressStyleModel",
     "model_module_version": "1.5.0",
     "state": {
      "_model_module": "@jupyter-widgets/controls",
      "_model_module_version": "1.5.0",
      "_model_name": "ProgressStyleModel",
      "_view_count": null,
      "_view_module": "@jupyter-widgets/base",
      "_view_module_version": "1.2.0",
      "_view_name": "StyleView",
      "bar_color": null,
      "description_width": ""
     }
    },
    "ca770ba5d52f42e685dd74308cc8cea9": {
     "model_module": "@jupyter-widgets/base",
     "model_name": "LayoutModel",
     "model_module_version": "1.2.0",
     "state": {
      "_model_module": "@jupyter-widgets/base",
      "_model_module_version": "1.2.0",
      "_model_name": "LayoutModel",
      "_view_count": null,
      "_view_module": "@jupyter-widgets/base",
      "_view_module_version": "1.2.0",
      "_view_name": "LayoutView",
      "align_content": null,
      "align_items": null,
      "align_self": null,
      "border": null,
      "bottom": null,
      "display": null,
      "flex": null,
      "flex_flow": null,
      "grid_area": null,
      "grid_auto_columns": null,
      "grid_auto_flow": null,
      "grid_auto_rows": null,
      "grid_column": null,
      "grid_gap": null,
      "grid_row": null,
      "grid_template_areas": null,
      "grid_template_columns": null,
      "grid_template_rows": null,
      "height": null,
      "justify_content": null,
      "justify_items": null,
      "left": null,
      "margin": null,
      "max_height": null,
      "max_width": null,
      "min_height": null,
      "min_width": null,
      "object_fit": null,
      "object_position": null,
      "order": null,
      "overflow": null,
      "overflow_x": null,
      "overflow_y": null,
      "padding": null,
      "right": null,
      "top": null,
      "visibility": null,
      "width": null
     }
    },
    "cfe70de5c3774ee2b4c9e70addd9a3e9": {
     "model_module": "@jupyter-widgets/controls",
     "model_name": "DescriptionStyleModel",
     "model_module_version": "1.5.0",
     "state": {
      "_model_module": "@jupyter-widgets/controls",
      "_model_module_version": "1.5.0",
      "_model_name": "DescriptionStyleModel",
      "_view_count": null,
      "_view_module": "@jupyter-widgets/base",
      "_view_module_version": "1.2.0",
      "_view_name": "StyleView",
      "description_width": ""
     }
    }
   }
  }
 },
 "nbformat": 4,
 "nbformat_minor": 0
}
