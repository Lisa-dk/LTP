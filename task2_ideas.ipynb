{
 "cells": [
  {
   "cell_type": "code",
   "execution_count": 1,
   "id": "e8889b9e",
   "metadata": {},
   "outputs": [],
   "source": [
    "import json\n",
    "import os\n",
    "import random\n",
    "from tqdm import tqdm\n",
    "import numpy as np\n",
    "import pandas as pd\n",
    "import matplotlib.pyplot as plt\n",
    "from vaderSentiment.vaderSentiment import SentimentIntensityAnalyzer"
   ]
  },
  {
   "cell_type": "markdown",
   "id": "4b03b091",
   "metadata": {},
   "source": [
    "### Possible RQs\n",
    "\n",
    "- Do the human values expressed in a ChangeMyView title effect the stability of a conversation?\n",
    "    - See if the style (i.e. valence, arousal, dominance and concreteness) change as the comments progress for a post (sort by time)\n",
    "    - Do conflicts arise (see change in emotion)\n",
    "    - Not really possible given low comments per post\n",
    "- Do specific human values induce negativity (per debater or per post)?\n",
    "    - Sentiment analysis \n",
    "    - All seem neutral"
   ]
  },
  {
   "cell_type": "code",
   "execution_count": 2,
   "id": "1ca2a62e",
   "metadata": {},
   "outputs": [
    {
     "name": "stderr",
     "output_type": "stream",
     "text": [
      "100%|██████████████████████████████████████| 3801/3801 [00:08<00:00, 449.39it/s]\n",
      "100%|████████████████████████████████████| 3801/3801 [00:00<00:00, 86392.63it/s]\n",
      "100%|████████████████████████████████████| 3801/3801 [00:00<00:00, 10862.90it/s]\n"
     ]
    }
   ],
   "source": [
    "PATH = \"debaters\"\n",
    "\n",
    "def load_json(path):\n",
    "    with open(path) as f:\n",
    "        data = [json.loads(line) for line in tqdm(f.readlines())]\n",
    "    return data\n",
    "\n",
    "comments = load_json(os.path.join(PATH, \"comments.jsonl\"))\n",
    "debaters_full = load_json(os.path.join(PATH, \"debaters-full.jsonl\"))\n",
    "debaters = load_json(os.path.join(PATH, \"debaters.jsonl\"))"
   ]
  },
  {
   "cell_type": "code",
   "execution_count": 3,
   "id": "53e7b3f3",
   "metadata": {},
   "outputs": [
    {
     "name": "stdout",
     "output_type": "stream",
     "text": [
      "Number of debaters: 3801\n",
      "Number of posts: 27020\n",
      "Mean number of comments per post: 9.356291635825315\n",
      "Mean number of posts per user: 66.51065509076558\n",
      "Total number of comments among all posts: 252807\n"
     ]
    },
    {
     "data": {
      "image/png": "[encoded data removed]",
      "text/plain": [
       "<Figure size 432x288 with 1 Axes>"
      ]
     },
     "metadata": {
      "needs_background": "light"
     },
     "output_type": "display_data"
    }
   ],
   "source": [
    "posts = {}\n",
    "total_comments = 0\n",
    "\n",
    "for x in comments:\n",
    "    for c in x[\"comments\"]:\n",
    "        title = c[\"op_title\"]\n",
    "        features =  [c[\"text\"], c[\"created_utc\"], \n",
    "                     c[\"style\"][\"valence\"], c[\"style\"][\"arousal\"], \n",
    "                     c[\"style\"][\"dominance\"], c[\"style\"][\"concreteness\"]]\n",
    "        if title not in posts:\n",
    "            posts[title] = [features]\n",
    "        else:\n",
    "            posts[title].append(features)\n",
    "        total_comments += 1\n",
    "        \n",
    "comments_len = [len(x) for x in posts.values()]\n",
    "posts_len = [len(x[\"comments\"]) for x in debaters]\n",
    "\n",
    "print(\"Number of debaters:\", len(comments))\n",
    "print(\"Number of posts:\", len(posts))\n",
    "print(\"Mean number of comments per post:\", np.mean(comments_len))\n",
    "print(\"Mean number of posts per user:\", np.mean(posts_len))\n",
    "print(\"Total number of comments among all posts:\", total_comments)\n",
    "\n",
    "lens, counts = np.unique(comments_len, return_counts=True)\n",
    "plt.bar(lens, counts)\n",
    "plt.xlabel(\"Number of comments per post\")\n",
    "plt.ylabel(\"Frequency\")\n",
    "plt.show()"
   ]
  },
  {
   "cell_type": "code",
   "execution_count": 4,
   "id": "b29a6b77",
   "metadata": {},
   "outputs": [
    {
     "name": "stdout",
     "output_type": "stream",
     "text": [
      "Post title: CMV: Rock music is no longer culturally relevant \n",
      "\n",
      "Comment 0 : Seems like you are making the mistake of assuming that your experience is the experience of all of society.  I have even heard of Fetty Wap so maybe that is not the song of the summer.  And of the four \"most important\" albums that you listed, two of them are arguably rock records.\n",
      "{'neg': 0.076, 'neu': 0.845, 'pos': 0.079, 'compound': 0.0498}\n",
      "----\n",
      "Comment 1 : I can promise you that rock is still very relevant in our culture.\n",
      "\n",
      "The \"mainstream\" music (rock included) that you hear on the radio is engineered to be... well mainstream. They're targeted at young people. Them being vocal and social about pop music, rock is usually not seen in the picture.\n",
      "\n",
      "I never got into rock until a few months ago. Before that, it seemed so boring. But I did notice a lot of people (usually 30+ years of age) seemed love rock music. Whenever I'd visit their homes, there were collections of guitars and rock posters hanging up on the walls.\n",
      "\n",
      "In my first year of college (last year), I found that a lot of people there played guitar. And pretty much everyone who played guitar loved rock. It was odd because I always thought rock was dead. Now I'm getting into it, with David Bowie being my gateway artist.\n",
      "\n",
      "What I've told you are personal anecdotes. Let's look at the true facts. Many artists will admit that Rock music inspired them the most. Lady Gaga was inspired by David Bowie, Lil Wayne was inspired by Nirvana and etc.\n",
      "\n",
      "In all honesty, I don't have any statistics to prove to you that Rock is relevant. All i know is that many artists are big fanatics of rock, and many music fanatics love rock as well. The more I hang out with  people a bit older than me, the more I learn people love rock.\n",
      "\n",
      "\n",
      "{'neg': 0.036, 'neu': 0.756, 'pos': 0.208, 'compound': 0.9949}\n",
      "----\n",
      "Comment 2 : Have you watched many TV commercials?  Tons of them have rock music in the background.\n",
      "{'neg': 0.0, 'neu': 1.0, 'pos': 0.0, 'compound': 0.0}\n",
      "----\n",
      "Comment 3 : I think it only looks that way in retrospect and rock only looks culturally irrelevant compared to an embellished past. Look back at the heyday of punk or prog rock or thrash metal and you'll see it was largely some version of pop that dominated the charts. Pop-punk, grunge and nu metal were largely short-lived trends (from a mainstream exposure standpoint.) Rock has always had one foot firmly in the underground, which is why its descent into irrelevance has been proclaimed in every decade. Most rock bands reach their commercial peak late in their career. Bands like Led Zeppelin, Deep Purple, Black Sabbath, Rush and Iron Maiden weren't critical darlings at the time of their most classic albums.\n",
      "{'neg': 0.021, 'neu': 0.931, 'pos': 0.048, 'compound': 0.2954}\n",
      "----\n",
      "Comment 4 : You have not compared the current billboard charts to previous billboard charts. Billboard charts have been pop for a long time.\n",
      "{'neg': 0.0, 'neu': 1.0, 'pos': 0.0, 'compound': 0.0}\n",
      "----\n",
      "Comment 5 : The biggest flaw in your arguement has to do with record sales - as in people actually exchange music for a physical product. The sales of vinyl records have been at the highest in decades. For a \"dead\" format to continue to grow the way it has, clearly there is something happening that is getting people to change the way they consume music.\n",
      "\n",
      "I think that that clearly counts as \"culturally relevant.\" \n",
      "{'neg': 0.055, 'neu': 0.877, 'pos': 0.069, 'compound': 0.0258}\n",
      "----\n",
      "Comment 6 : All of the metrics you use to decide that rock is no longer culturally relevant are defined by third parties, who would have a vested interest in making certain easily-produced genres be the forefront of \"mainstream\" music.\n",
      "{'neg': 0.05, 'neu': 0.734, 'pos': 0.216, 'compound': 0.7351}\n",
      "----\n"
     ]
    }
   ],
   "source": [
    "# Get converstation\n",
    "analyzer = SentimentIntensityAnalyzer()\n",
    "ex = list(posts.keys())[7]\n",
    "df = pd.DataFrame(posts[ex], columns=[\"Post\", \"Time\", \"Valence\", \"Arousal\", \"Dominance\", \"Concreteness\"])\n",
    "df = df.sort_values(by=['Time'])\n",
    "\n",
    "print(\"Post title:\", ex, \"\\n\")\n",
    "for i in range(df.shape[0]):\n",
    "    c = df.iloc[i,0]\n",
    "    print(\"Comment\", i, \":\", c)\n",
    "    print(analyzer.polarity_scores(c))\n",
    "    print(\"----\")"
   ]
  }
 ],
 "metadata": {
  "kernelspec": {
   "display_name": "Python 3 (ipykernel)",
   "language": "python",
   "name": "python3"
  },
  "language_info": {
   "codemirror_mode": {
    "name": "ipython",
    "version": 3
   },
   "file_extension": ".py",
   "mimetype": "text/x-python",
   "name": "python",
   "nbconvert_exporter": "python",
   "pygments_lexer": "ipython3",
   "version": "3.11.3"
  }
 },
 "nbformat": 4,
 "nbformat_minor": 5
}
