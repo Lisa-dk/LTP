{
 "cells": [
  {
   "cell_type": "code",
   "execution_count": 7,
   "id": "e8889b9e",
   "metadata": {},
   "outputs": [],
   "source": [
    "import json\n",
    "import os\n",
    "import random\n",
    "from tqdm import tqdm\n",
    "import numpy as np\n",
    "import pandas as pd\n",
    "import matplotlib.pyplot as plt\n",
    "from vaderSentiment.vaderSentiment import SentimentIntensityAnalyzer\n",
    "from transformers import AutoTokenizer"
   ]
  },
  {
   "cell_type": "markdown",
   "id": "4b03b091",
   "metadata": {},
   "source": [
    "### Possible RQs\n",
    "\n",
    "- Do the human values expressed in a ChangeMyView title effect the stability of a conversation?\n",
    "    - See if the style (i.e. valence, arousal, dominance and concreteness) change as the comments progress for a post (sort by time)\n",
    "    - Do conflicts arise (see change in emotion)\n",
    "    - Not really possible given low comments per post\n",
    "- Do specific human values induce negativity (per debater or per post)?\n",
    "    - Sentiment analysis \n",
    "    - All seem neutral"
   ]
  },
  {
   "cell_type": "code",
   "execution_count": 8,
   "id": "1ca2a62e",
   "metadata": {},
   "outputs": [
    {
     "name": "stderr",
     "output_type": "stream",
     "text": [
      "100%|██████████████████████████████████████| 3801/3801 [00:08<00:00, 461.99it/s]\n",
      "100%|███████████████████████████████████| 3801/3801 [00:00<00:00, 103587.62it/s]\n",
      "100%|████████████████████████████████████| 3801/3801 [00:00<00:00, 10000.98it/s]\n"
     ]
    }
   ],
   "source": [
    "PATH = \"debaters\"\n",
    "\n",
    "def load_json(path):\n",
    "    with open(path) as f:\n",
    "        data = [json.loads(line) for line in tqdm(f.readlines())]\n",
    "    return data\n",
    "\n",
    "comments = load_json(os.path.join(PATH, \"comments.jsonl\"))\n",
    "debaters_full = load_json(os.path.join(PATH, \"debaters-full.jsonl\"))\n",
    "debaters = load_json(os.path.join(PATH, \"debaters.jsonl\"))"
   ]
  },
  {
   "cell_type": "code",
   "execution_count": 9,
   "id": "53e7b3f3",
   "metadata": {},
   "outputs": [
    {
     "name": "stderr",
     "output_type": "stream",
     "text": [
      "100%|███████████████████████████████████████| 3801/3801 [02:37<00:00, 24.14it/s]\n"
     ]
    },
    {
     "name": "stdout",
     "output_type": "stream",
     "text": [
      "Number of debaters: 3801\n",
      "Number of posts: 27020\n",
      "Mean number of comments per post: 9.356291635825315\n",
      "Mean number of posts per user: 66.51065509076558\n",
      "Total number of comments among all posts: 252807\n"
     ]
    },
    {
     "data": {
      "image/png": "[encoded data removed]",
      "text/plain": [
       "<Figure size 432x288 with 1 Axes>"
      ]
     },
     "metadata": {
      "needs_background": "light"
     },
     "output_type": "display_data"
    }
   ],
   "source": [
    "posts = {}\n",
    "total_comments = 0\n",
    "c_lens = []\n",
    "\n",
    "MODEL = f\"cardiffnlp/tweet-topic-21-multi\"\n",
    "tokenizer = AutoTokenizer.from_pretrained(MODEL)\n",
    "\n",
    "for x in tqdm(comments):\n",
    "    for c in x[\"comments\"]:\n",
    "        title = c[\"op_title\"]\n",
    "        text = c[\"text\"]\n",
    "        tokens = tokenizer(text, return_tensors='pt')\n",
    "        #print(tokens[\"attention_mask\"][0].shape)\n",
    "        \n",
    "        c_lens.append(tokens[\"attention_mask\"][0].shape[0])\n",
    "        \n",
    "        features =  [c[\"text\"], c[\"created_utc\"], \n",
    "                     c[\"style\"][\"valence\"], c[\"style\"][\"arousal\"], \n",
    "                     c[\"style\"][\"dominance\"], c[\"style\"][\"concreteness\"]]\n",
    "        if title not in posts:\n",
    "            posts[title] = [features]\n",
    "        else:\n",
    "            posts[title].append(features)\n",
    "        total_comments += 1\n",
    "        \n",
    "comments_len = [len(x) for x in posts.values()]\n",
    "posts_len = [len(x[\"comments\"]) for x in debaters]\n",
    "\n",
    "print(\"Number of debaters:\", len(comments))\n",
    "print(\"Number of posts:\", len(posts))\n",
    "print(\"Mean number of comments per post:\", np.mean(comments_len))\n",
    "print(\"Mean number of posts per user:\", np.mean(posts_len))\n",
    "print(\"Total number of comments among all posts:\", total_comments)\n",
    "\n",
    "lens, counts = np.unique(comments_len, return_counts=True)\n",
    "plt.bar(lens, counts)\n",
    "plt.xlabel(\"Number of comments per post\")\n",
    "plt.ylabel(\"Frequency\")\n",
    "plt.show()"
   ]
  },
  {
   "cell_type": "code",
   "execution_count": 10,
   "id": "dd6e6d62",
   "metadata": {},
   "outputs": [
    {
     "name": "stdout",
     "output_type": "stream",
     "text": [
      "0.9412278932149821\n"
     ]
    },
    {
     "data": {
      "image/png": "[encoded data removed]",
      "text/plain": [
       "<Figure size 432x288 with 1 Axes>"
      ]
     },
     "metadata": {
      "needs_background": "light"
     },
     "output_type": "display_data"
    }
   ],
   "source": [
    "all_lens = np.array(c_lens)\n",
    "print(np.count_nonzero(all_lens < 512) / total_comments)\n",
    "plt.bar(*np.unique(c_lens, return_counts=True))\n",
    "plt.xlabel(\"Token Length of Comment\")\n",
    "plt.ylabel(\"Frequency\")\n",
    "plt.axvline(x=514, color=\"red\", label=\"Max token length = 512\")\n",
    "plt.legend()\n",
    "plt.show()"
   ]
  },
  {
   "cell_type": "code",
   "execution_count": 11,
   "id": "b29a6b77",
   "metadata": {},
   "outputs": [
    {
     "name": "stdout",
     "output_type": "stream",
     "text": [
      "Post title: CMV: Taylor Swift's recent accidental eight seconds of white noise (\"Track 3\") proves Death of the Author \n",
      "\n",
      "Comment 0 : An isolated case does not prove a broad reality. This case may provie that it is true in the case of Taylor Swift as an author, but it doesn't follow that it carries to all artists.\n",
      "\n",
      "In some cases \"authors\" do in fact have much greater control over the presentation of their works and make a point to ensure that the interpretation of their work is not too esoteric.\n",
      "\n",
      "In general, I largely agree with the world view you present, though. Art is by it's nature in the mind of the observer, not the creator. Art is not important for what the creator wanted, it is important because of what it means when it is observed. Therefore art is inherently multiple. If two people can observe it and have two different interpretations, then those interpretations are both present regardless of authorial intent.\n",
      "\n",
      "All I'm really arguing is that the case of Taylor Swift's mistaken release is not the definitive case, it is just an interesting example of a phenomenon that was already well established.\n",
      "{'neg': 0.058, 'neu': 0.832, 'pos': 0.111, 'compound': 0.8546}\n",
      "----\n",
      "Comment 1 : I would have categorized this as a celebration of celebrity.  If a lesser-known artist had made the same mistake, nobody would have been interested.  If Swift had announced that it was a highbrow commentary, the reception would have been different.\n",
      "\n",
      "If anything, this shows that the author's name and stated intentions are integral to our understanding of her work.\n",
      "{'neg': 0.038, 'neu': 0.89, 'pos': 0.072, 'compound': 0.2732}\n",
      "----\n",
      "Comment 2 : &gt;Canada loved Track 3 because it was \"produced\" by Swift\n",
      "\n",
      "No, they BOUGHT Track 3 because it was Swift.  This proves the opposite of your point.  It was all about spending that money because of the author.  If  you or I had released it, no one would have noticed.  The author is alive and well.\n",
      "{'neg': 0.035, 'neu': 0.773, 'pos': 0.192, 'compound': 0.8402}\n",
      "----\n",
      "Comment 3 : I believe in death of the author but your reasoning as to why this incident proves it seems off base.\n",
      "\n",
      "The article you linked to posits that people most likely downloaded the song mistakenly because they saw it was something new by T. Swift. This is probably correct which means Canadians don't necessarily love the track at all. In fact most people might be incensed that they spent money on something that turned out to not be what they expected.\n",
      "\n",
      "Also, the main idea behind death of the author is that art can be appreciated separate from any authorial intention. But the only reason that people do appreciate this track is because of the hilarity surrounding the idea that there was no authorial intent. It's an ironic appreciation for the artist and the event/phenomenon surrounding the track's accidental release, not the track itself.\n",
      "{'neg': 0.147, 'neu': 0.767, 'pos': 0.086, 'compound': -0.8591}\n",
      "----\n",
      "Comment 4 : The 8 seconds of white noise isn't art, Taylor Swift didn't create it. It cannot be said to be a piece by Swift. Further, people only bought it because they mistakenly thought it was a Taylor Swift song.\n",
      "{'neg': 0.133, 'neu': 0.782, 'pos': 0.085, 'compound': -0.2514}\n",
      "----\n",
      "Comment 5 : &gt;Death of the Author is a literary theory originally proposed in late 1960s France.\n",
      "\n",
      "No, it isn't. It's an essay arguing for a new method of critiquing works of art, not a theory about some fundamental reality about art. \n",
      "\n",
      "Barthes argues that critics and consumers of art should examine the piece on its own merits, and avoid drawing conclusions and inferences based on the author when they form a judgement of it. \n",
      "\n",
      "Death of the Author is not a hypothesis to be proven or disproven - it's a technique for art consumption - a technique that was clearly not employed by the masses that downloaded the T-Swift white noise. On its own, the white noise is completely meaningless ; clearly a technical error rather than a work of art. However, the consumers tied their understanding of it to the creator, and became patrons based purely on that fact. Barthes only argues that they **shouldn't** do that. \n",
      "\n",
      "Your CMV is sort of baseless because you're misunderstanding what Barthes' essay is about. \n",
      "{'neg': 0.132, 'neu': 0.825, 'pos': 0.044, 'compound': -0.9416}\n",
      "----\n",
      "Comment 6 : The problem is that you quite simply have no idea what \"Death of the author\" means. Have you read Barthes' actual paper? It's very short.\n",
      "\n",
      "You seem to think that Barthes is making an epistemic claim: that \"we cannot understand what an author intended by her work.\" This is similar to a claim made by the new critics in the 1920s, particularly Wimsatt and Beardsley's paper \"The Intentional Fallacy.\" But this isn't Barthes' claim. Rather than making a methodological point (it's not a good idea to analyze text in terms of the author's intentions) or an epistemic point (we can never know an author's intentions), he's making the metaphysical point that critiques the very possibility of an author so much as having intentions that her work can succeed or fail to capture in the first place. \n",
      "\n",
      "Barthes says, roughly, that meaning isn't translated into text, but created in the text itself, and the author can in principle not control the creation of that meaning. If we grant Barthes' point, it's not clear what happens to the distinction between works that Swift \"really\" created\" and works she only \"accidentally\" created. You're appealing to this distinction in order to support your point (you're saying that people treated a work in the second category as though it were a work in the first category, even though it wasn't); but Barthes would want you to reject that distinction, or at least find it very fishy. And if that distinction is no longer operative, you can't be making any point at all.\n",
      "\n",
      "\n",
      "(I will also say that, even if Barthes were making the epistemic point, it's not clear to me how the phenomenon of \"Track 3\" would actually support that point, but that's a separate issue.)\n",
      "\n",
      "It's of course a good question whether we should accept Barthes' claim or not, but at any rate it has absolutely nothing to do with people buying a song because Taylor Swift's name was on it. Death of the author is not a thesis that makes predictions, so you can't empirically give evidence for it.\n",
      "\n",
      "(This answer has been adapted from a [response](http://www.reddit.com/r/changemyview/comments/2jzpna/cmv_taylor_swifts_recent_accidental_eight_seconds/clgna7k) I gave to another user on this CMV.)\n",
      "{'neg': 0.093, 'neu': 0.825, 'pos': 0.082, 'compound': -0.5536}\n",
      "----\n",
      "Comment 7 : How does a piece of art that we'll stipulate *had* no intention supposed to prove Barthes' assertion that the intention of the author doesn't make it through into the written work?\n",
      "\n",
      "This example is like a converse to Barthes' thesis. It's saying that the audience can create meaning for the piece in the absence of a meaning imposed by the author, but says nothing about whether the author's intention can make it through into the piece.\n",
      "\n",
      "This \"song\" demonstrates a necessary but not sufficient condition to validate Barthes' thesis.\n",
      "\n",
      "It is (to a degree) evidence that it is true that an audience *can* create a meaning for a work of art. That says absolutely nothing about whether or not the artist also can do so. \n",
      "{'neg': 0.021, 'neu': 0.883, 'pos': 0.097, 'compound': 0.8793}\n",
      "----\n",
      "Comment 8 : Your points completely contradicts your statement. The track has no value without the author and her intentions. You even said so your self\n",
      "{'neg': 0.184, 'neu': 0.816, 'pos': 0.0, 'compound': -0.576}\n",
      "----\n"
     ]
    }
   ],
   "source": [
    "# Get converstation\n",
    "analyzer = SentimentIntensityAnalyzer()\n",
    "ex = list(posts.keys())[16]\n",
    "df = pd.DataFrame(posts[ex], columns=[\"Post\", \"Time\", \"Valence\", \"Arousal\", \"Dominance\", \"Concreteness\"])\n",
    "df = df.sort_values(by=['Time'])\n",
    "\n",
    "print(\"Post title:\", ex, \"\\n\")\n",
    "for i in range(df.shape[0]):\n",
    "    c = df.iloc[i,0]\n",
    "    print(\"Comment\", i, \":\", c)\n",
    "    print(analyzer.polarity_scores(c))\n",
    "    print(\"----\")"
   ]
  },
  {
   "cell_type": "code",
   "execution_count": null,
   "id": "f1f36ad2",
   "metadata": {},
   "outputs": [],
   "source": [
    "from transformers import AutoModelForSequenceClassification, TFAutoModelForSequenceClassification\n",
    "from transformers import AutoTokenizer\n",
    "import numpy as np\n",
    "from scipy.special import expit\n",
    "\n",
    "    \n",
    "MODEL = f\"cardiffnlp/tweet-topic-21-multi\"\n",
    "tokenizer = AutoTokenizer.from_pretrained(MODEL)\n",
    "\n",
    "\n",
    "model = AutoModelForSequenceClassification.from_pretrained(MODEL)\n",
    "class_mapping = model.config.id2label\n",
    "\n",
    "all_topics = []\n",
    "\n",
    "\n",
    "for x in tqdm(comments):\n",
    "    for c in x[\"comments\"]:\n",
    "        text = c[\"text\"]\n",
    "        tokens = tokenizer(text, return_tensors='pt')\n",
    "        output = model(**tokens)\n",
    "        scores = output[0][0].detach().numpy()\n",
    "        scores = expit(scores)\n",
    "#         print(class_mapping)\n",
    "#         print(np.argmax(scores))\n",
    "        all_topics.append(np.argmax(scores))\n",
    "#         k + 1\n",
    "\n",
    "# text = \"It is great to see athletes promoting awareness for climate change.\"\n",
    "# tokens = tokenizer(text, return_tensors='pt')\n",
    "# output = model(**tokens)\n",
    "\n",
    "scores = output[0][0].detach().numpy()\n",
    "scores = expit(scores)\n",
    "predictions = (scores >= 0.5) * 1\n",
    "\n",
    "\n",
    "# TF\n",
    "#tf_model = TFAutoModelForSequenceClassification.from_pretrained(MODEL)\n",
    "#class_mapping = tf_model.config.id2label\n",
    "#text = \"It is great to see athletes promoting awareness for climate change.\"\n",
    "#tokens = tokenizer(text, return_tensors='tf')\n",
    "#output = tf_model(**tokens)\n",
    "#scores = output[0][0]\n",
    "#scores = expit(scores)\n",
    "#predictions = (scores >= 0.5) * 1\n",
    "\n",
    "# Map to classes\n",
    "for i in range(len(predictions)):\n",
    "  if predictions[i]:\n",
    "    print(class_mapping[i])"
   ]
  }
 ],
 "metadata": {
  "kernelspec": {
   "display_name": "Python 3 (ipykernel)",
   "language": "python",
   "name": "python3"
  },
  "language_info": {
   "codemirror_mode": {
    "name": "ipython",
    "version": 3
   },
   "file_extension": ".py",
   "mimetype": "text/x-python",
   "name": "python",
   "nbconvert_exporter": "python",
   "pygments_lexer": "ipython3",
   "version": "3.11.3"
  }
 },
 "nbformat": 4,
 "nbformat_minor": 5
}
