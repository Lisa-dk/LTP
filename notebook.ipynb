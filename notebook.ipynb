{
 "cells": [
  {
   "cell_type": "markdown",
   "metadata": {},
   "source": [
    "# Imports"
   ]
  },
  {
   "cell_type": "code",
   "execution_count": 1,
   "metadata": {},
   "outputs": [
    {
     "name": "stderr",
     "output_type": "stream",
     "text": [
      "2023-05-30 15:55:52.319413: I tensorflow/core/platform/cpu_feature_guard.cc:182] This TensorFlow binary is optimized to use available CPU instructions in performance-critical operations.\n",
      "To enable the following instructions: AVX2 FMA, in other operations, rebuild TensorFlow with the appropriate compiler flags.\n",
      "2023-05-30 15:55:52.966254: W tensorflow/compiler/tf2tensorrt/utils/py_utils.cc:38] TF-TRT Warning: Could not find TensorRT\n"
     ]
    }
   ],
   "source": [
    "import os\n",
    "import numpy as np\n",
    "import pandas as pd\n",
    "import matplotlib.pyplot as plt\n",
    "from transformers import pipeline\n",
    "from sklearn.metrics import f1_score\n",
    "import torch\n",
    "from textaugment import EDA\n",
    "from transformers import AutoTokenizer, AutoModelForSequenceClassification, TrainingArguments, Trainer, AutoModelForMaskedLM\n",
    "from itertools import chain\n",
    "from collections import Counter\n",
    "import random\n",
    "import nltk\n",
    "from gensim import models\n",
    "from gensim.models import KeyedVectors\n",
    "from tqdm import tqdm\n",
    "from scipy import stats\n",
    "import scikit_posthocs as sp"
   ]
  },
  {
   "cell_type": "code",
   "execution_count": 2,
   "metadata": {},
   "outputs": [
    {
     "name": "stderr",
     "output_type": "stream",
     "text": [
      "[nltk_data] Downloading package stopwords to\n",
      "[nltk_data]     /home/nikolai/nltk_data...\n",
      "[nltk_data]   Package stopwords is already up-to-date!\n",
      "[nltk_data] Downloading package wordnet to /home/nikolai/nltk_data...\n",
      "[nltk_data]   Package wordnet is already up-to-date!\n"
     ]
    }
   ],
   "source": [
    "nltk.download('stopwords')\n",
    "nltk.download('wordnet')\n",
    "np.random.seed(42)\n",
    "\n",
    "def saveplot(title, folder=\"figures\"):\n",
    "    plt.savefig(os.path.join(folder, title + \".pdf\"), bbox_inches=\"tight\")"
   ]
  },
  {
   "cell_type": "markdown",
   "metadata": {},
   "source": [
    "# Load Dataset"
   ]
  },
  {
   "cell_type": "code",
   "execution_count": 3,
   "metadata": {},
   "outputs": [
    {
     "name": "stdout",
     "output_type": "stream",
     "text": [
      "Set:Test - Size:1576\n",
      "Set:Training - Size:5393\n",
      "Set:Validation - Size:1896\n"
     ]
    },
    {
     "data": {
      "text/html": [
       "<div>\n",
       "<style scoped>\n",
       "    .dataframe tbody tr th:only-of-type {\n",
       "        vertical-align: middle;\n",
       "    }\n",
       "\n",
       "    .dataframe tbody tr th {\n",
       "        vertical-align: top;\n",
       "    }\n",
       "\n",
       "    .dataframe thead th {\n",
       "        text-align: right;\n",
       "    }\n",
       "</style>\n",
       "<table border=\"1\" class=\"dataframe\">\n",
       "  <thead>\n",
       "    <tr style=\"text-align: right;\">\n",
       "      <th></th>\n",
       "      <th>Argument ID</th>\n",
       "      <th>Conclusion</th>\n",
       "      <th>Stance</th>\n",
       "      <th>Premise</th>\n",
       "      <th>Labels</th>\n",
       "    </tr>\n",
       "  </thead>\n",
       "  <tbody>\n",
       "    <tr>\n",
       "      <th>0</th>\n",
       "      <td>A01002</td>\n",
       "      <td>We should ban human cloning</td>\n",
       "      <td>in favor of</td>\n",
       "      <td>we should ban human cloning as it will only ca...</td>\n",
       "      <td>[0, 0, 0, 0, 0, 0, 0, 0, 0, 1, 0, 0, 0, 0, 0, ...</td>\n",
       "    </tr>\n",
       "    <tr>\n",
       "      <th>1</th>\n",
       "      <td>A01005</td>\n",
       "      <td>We should ban fast food</td>\n",
       "      <td>in favor of</td>\n",
       "      <td>fast food should be banned because it is reall...</td>\n",
       "      <td>[0, 0, 0, 0, 0, 0, 0, 0, 1, 0, 0, 0, 0, 0, 0, ...</td>\n",
       "    </tr>\n",
       "    <tr>\n",
       "      <th>2</th>\n",
       "      <td>A01006</td>\n",
       "      <td>We should end the use of economic sanctions</td>\n",
       "      <td>against</td>\n",
       "      <td>sometimes economic sanctions are the only thin...</td>\n",
       "      <td>[0, 0, 0, 0, 0, 1, 0, 0, 0, 1, 0, 0, 0, 0, 0, ...</td>\n",
       "    </tr>\n",
       "    <tr>\n",
       "      <th>3</th>\n",
       "      <td>A01007</td>\n",
       "      <td>We should abolish capital punishment</td>\n",
       "      <td>against</td>\n",
       "      <td>capital punishment is sometimes the only optio...</td>\n",
       "      <td>[0, 0, 0, 0, 0, 0, 0, 0, 0, 1, 0, 1, 0, 0, 0, ...</td>\n",
       "    </tr>\n",
       "    <tr>\n",
       "      <th>4</th>\n",
       "      <td>A01008</td>\n",
       "      <td>We should ban factory farming</td>\n",
       "      <td>against</td>\n",
       "      <td>factory farming allows for the production of c...</td>\n",
       "      <td>[0, 0, 0, 0, 0, 0, 0, 0, 1, 0, 0, 0, 0, 0, 1, ...</td>\n",
       "    </tr>\n",
       "  </tbody>\n",
       "</table>\n",
       "</div>"
      ],
      "text/plain": [
       "  Argument ID                                   Conclusion       Stance  \\\n",
       "0      A01002                  We should ban human cloning  in favor of   \n",
       "1      A01005                      We should ban fast food  in favor of   \n",
       "2      A01006  We should end the use of economic sanctions      against   \n",
       "3      A01007         We should abolish capital punishment      against   \n",
       "4      A01008                We should ban factory farming      against   \n",
       "\n",
       "                                             Premise  \\\n",
       "0  we should ban human cloning as it will only ca...   \n",
       "1  fast food should be banned because it is reall...   \n",
       "2  sometimes economic sanctions are the only thin...   \n",
       "3  capital punishment is sometimes the only optio...   \n",
       "4  factory farming allows for the production of c...   \n",
       "\n",
       "                                              Labels  \n",
       "0  [0, 0, 0, 0, 0, 0, 0, 0, 0, 1, 0, 0, 0, 0, 0, ...  \n",
       "1  [0, 0, 0, 0, 0, 0, 0, 0, 1, 0, 0, 0, 0, 0, 0, ...  \n",
       "2  [0, 0, 0, 0, 0, 1, 0, 0, 0, 1, 0, 0, 0, 0, 0, ...  \n",
       "3  [0, 0, 0, 0, 0, 0, 0, 0, 0, 1, 0, 1, 0, 0, 0, ...  \n",
       "4  [0, 0, 0, 0, 0, 0, 0, 0, 1, 0, 0, 0, 0, 0, 1, ...  "
      ]
     },
     "execution_count": 3,
     "metadata": {},
     "output_type": "execute_result"
    }
   ],
   "source": [
    "DATA_PATH = \"data\"\n",
    "\n",
    "def load_data(path=DATA_PATH):\n",
    "    def get_path(set_type, is_args):\n",
    "        return os.path.join(DATA_PATH, set_type, (\"arguments\" if is_args else \"labels\") + \"-\" + set_type + \".tsv\")\n",
    "    \n",
    "    data = {}\n",
    "    \n",
    "    for set_type in [\"test\", \"training\", \"validation\"]:\n",
    "        args = pd.read_csv(get_path(set_type, True), sep=\"\\t\")\n",
    "        \n",
    "        labels = pd.read_csv(get_path(set_type, False), sep=\"\\t\")\n",
    "        labels = labels.drop(\"Argument ID\", axis=1)\n",
    "        args[\"Labels\"] = [x for x in labels.to_numpy()]\n",
    "        \n",
    "        data[set_type] = args\n",
    "        print(f\"Set:{set_type.title()} - Size:{args.shape[0]}\")\n",
    "        \n",
    "    classes = list(labels.columns)\n",
    "    \n",
    "    return data, classes\n",
    "\n",
    "data, classes = load_data()\n",
    "data[\"training\"].head()"
   ]
  },
  {
   "cell_type": "markdown",
   "metadata": {},
   "source": [
    "# Augmentation"
   ]
  },
  {
   "cell_type": "code",
   "execution_count": 4,
   "metadata": {},
   "outputs": [
    {
     "name": "stdout",
     "output_type": "stream",
     "text": [
      "Training size: (5393, 5)\n",
      "Training augmented size: (6076, 5)\n"
     ]
    },
    {
     "data": {
      "image/png": "[encoded data removed]",
      "text/plain": [
       "<Figure size 432x288 with 1 Axes>"
      ]
     },
     "metadata": {
      "needs_background": "light"
     },
     "output_type": "display_data"
    },
    {
     "data": {
      "image/png": "[encoded data removed]",
      "text/plain": [
       "<Figure size 432x288 with 1 Axes>"
      ]
     },
     "metadata": {
      "needs_background": "light"
     },
     "output_type": "display_data"
    },
    {
     "data": {
      "image/png": "[encoded data removed]",
      "text/plain": [
       "<Figure size 432x288 with 1 Axes>"
      ]
     },
     "metadata": {
      "needs_background": "light"
     },
     "output_type": "display_data"
    }
   ],
   "source": [
    "def fix_class_imbalance(data, eda=False):\n",
    "    russian_aug = np.load(os.path.join(DATA_PATH, 'train_aug', 'back_trans_ru_augm.npy'))\n",
    "    german_aug = np.load(os.path.join(DATA_PATH, 'train_aug', 'back_trans_de_augm.npy'))\n",
    "\n",
    "    data_counts = data[\"training\"]['Labels'].sum(axis=0)\n",
    "    mean_freq = np.mean(data_counts)\n",
    "    min_classes = np.where(data_counts < mean_freq)[0]\n",
    "    max_classes = np.where(data_counts >= mean_freq)[0]\n",
    "    \n",
    "    data[\"training_aug\"] = data[\"training\"].copy()\n",
    "\n",
    "    rows_to_remove = []\n",
    "    rows_to_add = []\n",
    "    \n",
    "    for row_idx, row_labels in enumerate(data[\"training\"]['Labels']):\n",
    "\n",
    "        if not np.intersect1d( np.where(row_labels==1), max_classes).any():\n",
    "            premise = data[\"training\"].iloc[row_idx][\"Premise\"]\n",
    "            if premise.lower() != russian_aug[row_idx].lower():\n",
    "                new_row = data[\"training\"].iloc[row_idx].copy()\n",
    "                new_row[\"Premise\"] = russian_aug[row_idx]\n",
    "                rows_to_add.append(new_row)\n",
    "            \n",
    "            if premise.lower() != german_aug[row_idx].lower() and german_aug[row_idx].lower() != new_row[\"Premise\"].lower():\n",
    "                new_row = data[\"training\"].iloc[row_idx].copy()\n",
    "                new_row[\"Premise\"] = german_aug[row_idx]\n",
    "                rows_to_add.append(new_row)\n",
    "            \n",
    "            if eda:\n",
    "                eda = EDA()\n",
    "                prem_size = len(premise)\n",
    "                aug_premises = [eda.synonym_replacement(premise, int(prem_size*0.3)), \n",
    "                                eda.random_swap(premise,int(prem_size*0.2)),\n",
    "                                eda.random_insertion(premise, int(prem_size*0.1)),\n",
    "                                eda.random_deletion(premise, p=0.2)]\n",
    "                for aug_prem in aug_premises:\n",
    "                    new_row = data[\"training\"].iloc[row_idx].copy()\n",
    "                    new_row[\"Premise\"] = aug_prem\n",
    "                    rows_to_add.append(new_row)\n",
    "        elif not np.intersect1d( np.where(row_labels==1), min_classes).any():\n",
    "            rows_to_remove.append(row_idx)\n",
    "\n",
    "    rows_to_remove = random.sample(rows_to_remove, int(len(rows_to_remove)*0.3))\n",
    "    data[\"training_aug\"] = data[\"training_aug\"].drop(data[\"training_aug\"].index[rows_to_remove])\n",
    "\n",
    "    data[\"training_aug\"] = pd.concat([pd.DataFrame(rows_to_add), data[\"training_aug\"]]).reset_index(drop=True)\n",
    "\n",
    "\n",
    "fix_class_imbalance(data, eda=True)\n",
    "print(\"Training size:\", data[\"training\"].shape)\n",
    "print(\"Training augmented size:\", data[\"training_aug\"].shape)\n",
    "\n",
    "plt.rcParams[\"figure.figsize\"] = (15,6)\n",
    "plt.rcParams.update({'font.size': 12})\n",
    "\n",
    "data_counts_new = data[\"training\"]['Labels'].sum(axis=0)\n",
    "plt.bar(classes, data_counts_new)\n",
    "plt.xlabel(\"Human Value\")\n",
    "plt.xticks(rotation='vertical')\n",
    "plt.ylabel(\"Frequency\")\n",
    "plt.title(\"Training Class Label Distribution\")\n",
    "plt.show()\n",
    "\n",
    "data_counts_new = data[\"training_aug\"]['Labels'].sum(axis=0)\n",
    "plt.bar(classes, data_counts_new)\n",
    "plt.xlabel(\"Human Value\")\n",
    "plt.xticks(rotation='vertical')\n",
    "plt.ylabel(\"Frequency\")\n",
    "plt.title(\"Augmented Training Class Label Distribution\")\n",
    "plt.show()\n",
    "\n",
    "all_data = pd.concat([data[\"training\"], data[\"test\"], data[\"validation\"]])\n",
    "data_counts_new = all_data['Labels'].sum(axis=0)\n",
    "plt.bar(classes, data_counts_new)\n",
    "plt.xlabel(\"Human Value\")\n",
    "plt.xticks(rotation='vertical')\n",
    "plt.ylabel(\"Frequency\")\n",
    "plt.title(\"Class Label Distribution for entire Dataset (Train, Test, Validation)\")\n",
    "saveplot(\"class_dist_all_data\")\n",
    "plt.show()"
   ]
  },
  {
   "cell_type": "markdown",
   "metadata": {},
   "source": [
    "# Models"
   ]
  },
  {
   "cell_type": "code",
   "execution_count": 5,
   "metadata": {},
   "outputs": [],
   "source": [
    "## Code adapted from https://github.com/webis-de/acl22-identifying-the-human-values-behind-arguments/blob/main/src/python/training.py\n",
    "\n",
    "def f1_score_per_label(y_pred, y_true, value_classes, thresh=0.5, sigmoid=True):\n",
    "    \"\"\"Compute label-wise and averaged F1-scores\"\"\"\n",
    "    y_pred = torch.from_numpy(y_pred)\n",
    "    y_true = torch.from_numpy(y_true)\n",
    "    if sigmoid:\n",
    "        y_pred = y_pred.sigmoid()\n",
    "\n",
    "    y_true = y_true.bool().numpy()\n",
    "    y_pred = (y_pred > thresh).numpy()\n",
    "\n",
    "    f1_scores = {}\n",
    "    for i, v in enumerate(value_classes):\n",
    "        f1_scores[v] = round(f1_score(y_true[:, i], y_pred[:, i], zero_division=0), 2)\n",
    "\n",
    "    f1_scores['avg-f1-score'] = round(np.mean(list(f1_scores.values())), 2)\n",
    "\n",
    "    return f1_scores\n",
    "\n",
    "\n",
    "class MultiLabelTrainer(Trainer):\n",
    "    \"\"\"\n",
    "        A transformers `Trainer` with custom loss computation\n",
    "\n",
    "        Methods\n",
    "        -------\n",
    "        compute_loss(model, inputs, return_outputs=False):\n",
    "            Overrides loss computation from Trainer class\n",
    "        \"\"\"\n",
    "    def compute_loss(self, model, inputs, return_outputs=False):\n",
    "        \"\"\"Custom loss computation\"\"\"\n",
    "        labels = inputs.pop(\"labels\")\n",
    "        outputs = model(**inputs)\n",
    "        logits = outputs.logits\n",
    "        loss_fct = torch.nn.BCEWithLogitsLoss()\n",
    "        loss = loss_fct(logits.view(-1, self.model.config.num_labels),\n",
    "                        labels.float().view(-1, self.model.config.num_labels))\n",
    "        return (loss, outputs) if return_outputs else loss"
   ]
  },
  {
   "cell_type": "code",
   "execution_count": 6,
   "metadata": {
    "scrolled": true
   },
   "outputs": [
    {
     "name": "stderr",
     "output_type": "stream",
     "text": [
      "You're using a DistilBertTokenizerFast tokenizer. Please note that with a fast tokenizer, using the `__call__` method is faster than using a method to encode the text followed by a call to the `pad` method to get a padded encoding.\n"
     ]
    },
    {
     "data": {
      "text/html": [],
      "text/plain": [
       "<IPython.core.display.HTML object>"
      ]
     },
     "metadata": {},
     "output_type": "display_data"
    },
    {
     "name": "stdout",
     "output_type": "stream",
     "text": [
      "{'Self-direction: thought': 0.47, 'Self-direction: action': 0.47, 'Stimulation': 0.18, 'Hedonism': 0.26, 'Achievement': 0.62, 'Power: dominance': 0.25, 'Power: resources': 0.47, 'Face': 0.13, 'Security: personal': 0.72, 'Security: societal': 0.6, 'Tradition': 0.36, 'Conformity: rules': 0.45, 'Conformity: interpersonal': 0.13, 'Humility': 0.05, 'Benevolence: caring': 0.56, 'Benevolence: dependability': 0.2, 'Universalism: concern': 0.62, 'Universalism: nature': 0.6, 'Universalism: tolerance': 0.14, 'Universalism: objectivity': 0.46, 'avg-f1-score': 0.39}\n"
     ]
    },
    {
     "name": "stderr",
     "output_type": "stream",
     "text": [
      "You're using a RobertaTokenizerFast tokenizer. Please note that with a fast tokenizer, using the `__call__` method is faster than using a method to encode the text followed by a call to the `pad` method to get a padded encoding.\n"
     ]
    },
    {
     "data": {
      "text/html": [],
      "text/plain": [
       "<IPython.core.display.HTML object>"
      ]
     },
     "metadata": {},
     "output_type": "display_data"
    },
    {
     "name": "stdout",
     "output_type": "stream",
     "text": [
      "{'Self-direction: thought': 0.49, 'Self-direction: action': 0.56, 'Stimulation': 0.21, 'Hedonism': 0.41, 'Achievement': 0.65, 'Power: dominance': 0.3, 'Power: resources': 0.44, 'Face': 0.16, 'Security: personal': 0.72, 'Security: societal': 0.63, 'Tradition': 0.45, 'Conformity: rules': 0.52, 'Conformity: interpersonal': 0.18, 'Humility': 0.1, 'Benevolence: caring': 0.58, 'Benevolence: dependability': 0.29, 'Universalism: concern': 0.66, 'Universalism: nature': 0.69, 'Universalism: tolerance': 0.2, 'Universalism: objectivity': 0.44, 'avg-f1-score': 0.43}\n"
     ]
    },
    {
     "name": "stderr",
     "output_type": "stream",
     "text": [
      "You're using a RobertaTokenizerFast tokenizer. Please note that with a fast tokenizer, using the `__call__` method is faster than using a method to encode the text followed by a call to the `pad` method to get a padded encoding.\n"
     ]
    },
    {
     "data": {
      "text/html": [],
      "text/plain": [
       "<IPython.core.display.HTML object>"
      ]
     },
     "metadata": {},
     "output_type": "display_data"
    },
    {
     "name": "stdout",
     "output_type": "stream",
     "text": [
      "{'Self-direction: thought': 0.5, 'Self-direction: action': 0.58, 'Stimulation': 0.25, 'Hedonism': 0.39, 'Achievement': 0.64, 'Power: dominance': 0.32, 'Power: resources': 0.47, 'Face': 0.3, 'Security: personal': 0.72, 'Security: societal': 0.64, 'Tradition': 0.44, 'Conformity: rules': 0.48, 'Conformity: interpersonal': 0.23, 'Humility': 0.19, 'Benevolence: caring': 0.57, 'Benevolence: dependability': 0.32, 'Universalism: concern': 0.66, 'Universalism: nature': 0.74, 'Universalism: tolerance': 0.25, 'Universalism: objectivity': 0.47, 'avg-f1-score': 0.46}\n"
     ]
    },
    {
     "name": "stderr",
     "output_type": "stream",
     "text": [
      "You're using a DistilBertTokenizerFast tokenizer. Please note that with a fast tokenizer, using the `__call__` method is faster than using a method to encode the text followed by a call to the `pad` method to get a padded encoding.\n"
     ]
    },
    {
     "data": {
      "text/html": [],
      "text/plain": [
       "<IPython.core.display.HTML object>"
      ]
     },
     "metadata": {},
     "output_type": "display_data"
    },
    {
     "name": "stdout",
     "output_type": "stream",
     "text": [
      "{'Self-direction: thought': 0.5, 'Self-direction: action': 0.53, 'Stimulation': 0.21, 'Hedonism': 0.37, 'Achievement': 0.64, 'Power: dominance': 0.3, 'Power: resources': 0.45, 'Face': 0.11, 'Security: personal': 0.7, 'Security: societal': 0.59, 'Tradition': 0.36, 'Conformity: rules': 0.45, 'Conformity: interpersonal': 0.13, 'Humility': 0.11, 'Benevolence: caring': 0.58, 'Benevolence: dependability': 0.25, 'Universalism: concern': 0.62, 'Universalism: nature': 0.61, 'Universalism: tolerance': 0.19, 'Universalism: objectivity': 0.46, 'avg-f1-score': 0.41}\n"
     ]
    }
   ],
   "source": [
    "def test(data, classes, model_name, tok_name):\n",
    "    model_eval = AutoModelForSequenceClassification.from_pretrained(model_name, num_labels=len(classes)) # tok_name was model_name before but that didn't run for me\n",
    "    tokenizer_eval = AutoTokenizer.from_pretrained(tok_name)\n",
    "    trainer_eval = MultiLabelTrainer(model_eval, tokenizer=tokenizer_eval)\n",
    "\n",
    "    def encode(str_input):\n",
    "        return tokenizer_eval(str_input, truncation=True)\n",
    "\n",
    "    eval_data = data[\"Premise\"].map(encode)\n",
    "\n",
    "    pred = trainer_eval.predict(eval_data).predictions\n",
    "    \n",
    "    true = np.array([x for x in data[\"Labels\"]])\n",
    "    f1_scores = f1_score_per_label(pred, true, classes)\n",
    "    print(f1_scores)\n",
    "    \n",
    "    return f1_scores \n",
    "\n",
    "f1_scores_distilbert = test(data[\"validation\"], classes, \"nikolai40/human-values-distilbert\", \"distilbert-base-uncased\")\n",
    "f1_scores_roberta = test(data[\"validation\"], classes, \"nikolai40/human-values-roberta\", \"roberta-base\")\n",
    "f1_scores_roberta_aug = test(data[\"validation\"], classes, \"nikolai40/human-values-roberta-aug\", \"roberta-base\")\n",
    "f1_scores_distilbert_aug = test(data[\"validation\"], classes, \"nikolai40/human-values-distilbert-aug\", \"distilbert-base-uncased\")"
   ]
  },
  {
   "cell_type": "code",
   "execution_count": 7,
   "metadata": {},
   "outputs": [
    {
     "data": {
      "image/png": "[encoded data removed]",
      "text/plain": [
       "<Figure size 1080x432 with 1 Axes>"
      ]
     },
     "metadata": {
      "needs_background": "light"
     },
     "output_type": "display_data"
    }
   ],
   "source": [
    "df = pd.DataFrame({\"Human Value\": f1_scores_distilbert.keys(),\n",
    "                   \"Distilbert\": f1_scores_distilbert.values(),\n",
    "                   \"Roberta\": f1_scores_roberta.values(),\n",
    "                   \"Distilbert with Augmentation\": f1_scores_distilbert_aug.values(),\n",
    "                   \"Roberta with Augmentation\": f1_scores_roberta_aug.values()})\n",
    "\n",
    "df.head()\n",
    "plt.rcParams[\"figure.figsize\"] = (15,6)\n",
    "my_colors = [\"red\", \"darkred\", \"dodgerblue\", \"royalblue\"]\n",
    "df.plot(x=\"Human Value\", y=[\"Distilbert\", \"Roberta\", \"Distilbert with Augmentation\", \"Roberta with Augmentation\"], kind=\"bar\", color=my_colors)\n",
    "plt.title(\"Augmentation Performance on Validation Set\")\n",
    "plt.ylabel(\"F1-score\")\n",
    "plt.legend()\n",
    "saveplot(\"augmentation\")\n",
    "plt.show()"
   ]
  },
  {
   "cell_type": "markdown",
   "metadata": {},
   "source": [
    "# MLM model"
   ]
  },
  {
   "cell_type": "code",
   "execution_count": 8,
   "metadata": {},
   "outputs": [
    {
     "data": {
      "text/html": [
       "<div>\n",
       "<style scoped>\n",
       "    .dataframe tbody tr th:only-of-type {\n",
       "        vertical-align: middle;\n",
       "    }\n",
       "\n",
       "    .dataframe tbody tr th {\n",
       "        vertical-align: top;\n",
       "    }\n",
       "\n",
       "    .dataframe thead th {\n",
       "        text-align: right;\n",
       "    }\n",
       "</style>\n",
       "<table border=\"1\" class=\"dataframe\">\n",
       "  <thead>\n",
       "    <tr style=\"text-align: right;\">\n",
       "      <th></th>\n",
       "      <th>Argument ID</th>\n",
       "      <th>Conclusion</th>\n",
       "      <th>Stance</th>\n",
       "      <th>Premise</th>\n",
       "      <th>Labels</th>\n",
       "      <th>Labels_text</th>\n",
       "      <th>Argument_1</th>\n",
       "      <th>Argument_1_mask</th>\n",
       "      <th>Argument_2</th>\n",
       "      <th>Argument_2_mask</th>\n",
       "    </tr>\n",
       "  </thead>\n",
       "  <tbody>\n",
       "    <tr>\n",
       "      <th>0</th>\n",
       "      <td>A26004</td>\n",
       "      <td>We should end affirmative action</td>\n",
       "      <td>against</td>\n",
       "      <td>affirmative action helps with employment equity.</td>\n",
       "      <td>[0, 0, 0, 0, 1, 0, 0, 0, 1, 0, 0, 0, 0, 0, 0, ...</td>\n",
       "      <td>[Achievement, personal, concern, tolerance]</td>\n",
       "      <td>The premise affirmative action helps with empl...</td>\n",
       "      <td>The premise affirmative action helps with empl...</td>\n",
       "      <td>The premise affirmative action helps with empl...</td>\n",
       "      <td>The premise affirmative action helps with empl...</td>\n",
       "    </tr>\n",
       "    <tr>\n",
       "      <th>1</th>\n",
       "      <td>A26010</td>\n",
       "      <td>We should end affirmative action</td>\n",
       "      <td>in favor of</td>\n",
       "      <td>affirmative action can be considered discrimin...</td>\n",
       "      <td>[0, 0, 0, 0, 1, 0, 0, 0, 0, 0, 0, 0, 0, 0, 0, ...</td>\n",
       "      <td>[Achievement, concern, tolerance, objectivity]</td>\n",
       "      <td>The premise affirmative action can be consider...</td>\n",
       "      <td>The premise affirmative action can be consider...</td>\n",
       "      <td>The premise affirmative action can be consider...</td>\n",
       "      <td>The premise affirmative action can be consider...</td>\n",
       "    </tr>\n",
       "    <tr>\n",
       "      <th>2</th>\n",
       "      <td>A26016</td>\n",
       "      <td>We should ban naturopathy</td>\n",
       "      <td>in favor of</td>\n",
       "      <td>naturopathy is very dangerous for the most vul...</td>\n",
       "      <td>[0, 0, 0, 0, 1, 0, 0, 0, 1, 0, 0, 0, 0, 0, 0, ...</td>\n",
       "      <td>[Achievement, personal, dependability, concern]</td>\n",
       "      <td>The premise naturopathy is very dangerous for ...</td>\n",
       "      <td>The premise naturopathy is very dangerous for ...</td>\n",
       "      <td>The premise naturopathy is very dangerous for ...</td>\n",
       "      <td>The premise naturopathy is very dangerous for ...</td>\n",
       "    </tr>\n",
       "    <tr>\n",
       "      <th>3</th>\n",
       "      <td>A26024</td>\n",
       "      <td>We should prohibit women in combat</td>\n",
       "      <td>in favor of</td>\n",
       "      <td>women shouldn't be in combat because they aren...</td>\n",
       "      <td>[0, 0, 0, 0, 1, 0, 0, 0, 0, 0, 0, 0, 0, 0, 0, ...</td>\n",
       "      <td>[Achievement]</td>\n",
       "      <td>The premise women shouldn't be in combat becau...</td>\n",
       "      <td>The premise women shouldn't be in combat becau...</td>\n",
       "      <td>The premise women shouldn't be in combat becau...</td>\n",
       "      <td>The premise women shouldn't be in combat becau...</td>\n",
       "    </tr>\n",
       "    <tr>\n",
       "      <th>4</th>\n",
       "      <td>A26026</td>\n",
       "      <td>We should ban naturopathy</td>\n",
       "      <td>in favor of</td>\n",
       "      <td>once eradicated illnesses are returning due to...</td>\n",
       "      <td>[0, 0, 0, 0, 1, 0, 0, 0, 1, 1, 0, 0, 0, 0, 1, ...</td>\n",
       "      <td>[Achievement, personal, societal, caring, depe...</td>\n",
       "      <td>The premise once eradicated illnesses are retu...</td>\n",
       "      <td>The premise once eradicated illnesses are retu...</td>\n",
       "      <td>The premise once eradicated illnesses are retu...</td>\n",
       "      <td>The premise once eradicated illnesses are retu...</td>\n",
       "    </tr>\n",
       "  </tbody>\n",
       "</table>\n",
       "</div>"
      ],
      "text/plain": [
       "  Argument ID                          Conclusion       Stance  \\\n",
       "0      A26004    We should end affirmative action      against   \n",
       "1      A26010    We should end affirmative action  in favor of   \n",
       "2      A26016           We should ban naturopathy  in favor of   \n",
       "3      A26024  We should prohibit women in combat  in favor of   \n",
       "4      A26026           We should ban naturopathy  in favor of   \n",
       "\n",
       "                                             Premise  \\\n",
       "0   affirmative action helps with employment equity.   \n",
       "1  affirmative action can be considered discrimin...   \n",
       "2  naturopathy is very dangerous for the most vul...   \n",
       "3  women shouldn't be in combat because they aren...   \n",
       "4  once eradicated illnesses are returning due to...   \n",
       "\n",
       "                                              Labels  \\\n",
       "0  [0, 0, 0, 0, 1, 0, 0, 0, 1, 0, 0, 0, 0, 0, 0, ...   \n",
       "1  [0, 0, 0, 0, 1, 0, 0, 0, 0, 0, 0, 0, 0, 0, 0, ...   \n",
       "2  [0, 0, 0, 0, 1, 0, 0, 0, 1, 0, 0, 0, 0, 0, 0, ...   \n",
       "3  [0, 0, 0, 0, 1, 0, 0, 0, 0, 0, 0, 0, 0, 0, 0, ...   \n",
       "4  [0, 0, 0, 0, 1, 0, 0, 0, 1, 1, 0, 0, 0, 0, 1, ...   \n",
       "\n",
       "                                         Labels_text  \\\n",
       "0        [Achievement, personal, concern, tolerance]   \n",
       "1     [Achievement, concern, tolerance, objectivity]   \n",
       "2    [Achievement, personal, dependability, concern]   \n",
       "3                                      [Achievement]   \n",
       "4  [Achievement, personal, societal, caring, depe...   \n",
       "\n",
       "                                          Argument_1  \\\n",
       "0  The premise affirmative action helps with empl...   \n",
       "1  The premise affirmative action can be consider...   \n",
       "2  The premise naturopathy is very dangerous for ...   \n",
       "3  The premise women shouldn't be in combat becau...   \n",
       "4  The premise once eradicated illnesses are retu...   \n",
       "\n",
       "                                     Argument_1_mask  \\\n",
       "0  The premise affirmative action helps with empl...   \n",
       "1  The premise affirmative action can be consider...   \n",
       "2  The premise naturopathy is very dangerous for ...   \n",
       "3  The premise women shouldn't be in combat becau...   \n",
       "4  The premise once eradicated illnesses are retu...   \n",
       "\n",
       "                                          Argument_2  \\\n",
       "0  The premise affirmative action helps with empl...   \n",
       "1  The premise affirmative action can be consider...   \n",
       "2  The premise naturopathy is very dangerous for ...   \n",
       "3  The premise women shouldn't be in combat becau...   \n",
       "4  The premise once eradicated illnesses are retu...   \n",
       "\n",
       "                                     Argument_2_mask  \n",
       "0  The premise affirmative action helps with empl...  \n",
       "1  The premise affirmative action can be consider...  \n",
       "2  The premise naturopathy is very dangerous for ...  \n",
       "3  The premise women shouldn't be in combat becau...  \n",
       "4  The premise once eradicated illnesses are retu...  "
      ]
     },
     "execution_count": 8,
     "metadata": {},
     "output_type": "execute_result"
    }
   ],
   "source": [
    "def labels_to_text(labels_string):\n",
    "    return [label_values_single[i] for i in range(len(label_values_single)) if labels_string[i] == 1]\n",
    "\n",
    "def create_argument_1(row):\n",
    "    conclusion = row['Conclusion'].rstrip('.').lower()\n",
    "    premise = row['Premise'].rstrip('.').lower()\n",
    "    stance = row['Stance']\n",
    "    argument = f\"The premise {premise} is {stance} the conclusion that {conclusion}. The human value {', '.join(row['Labels_text'])} supports this argument.\"\n",
    "    argument_with_mask = f\"The premise {premise} is {stance} the conclusion that {conclusion}. The human value [MASK] supports this argument.\"\n",
    "    return argument, argument_with_mask\n",
    "\n",
    "def create_argument_2(row):\n",
    "    premise = row['Premise'].rstrip('.').lower()\n",
    "    argument = f\"The premise {premise} resonates with the human value of {', '.join(row['Labels_text'])}.\"\n",
    "    argument_with_mask = f\"The premise {premise} resonates with the human value of [MASK].\"\n",
    "    return argument, argument_with_mask\n",
    "\n",
    "label_values_single = [\"thought\", \"action\", \"Stimulation\", \"Hedonism\", \"Achievement\", \"dominance\", \"resources\", \"Face\", \"personal\", \"societal\", \"Tradition\", \"rules\", \"interpersonal\", \"Humility\", \"caring\", \"dependability\", \"concern\", \"nature\", \"tolerance\", \"objectivity\"]\n",
    "\n",
    "for split in data.keys():\n",
    "    data[split]['Labels_text'] = data[split]['Labels'].map(lambda x: labels_to_text(x))\n",
    "    data[split]['Argument_1'], data[split]['Argument_1_mask'] = zip(*data[split].apply(create_argument_1, axis=1))\n",
    "    data[split]['Argument_2'], data[split]['Argument_2_mask'] = zip(*data[split].apply(create_argument_2, axis=1))\n",
    "\n",
    "data[\"test\"].head()"
   ]
  },
  {
   "cell_type": "code",
   "execution_count": 9,
   "metadata": {},
   "outputs": [
    {
     "name": "stdout",
     "output_type": "stream",
     "text": [
      "The premise affirmative action helps with employment equity is against the conclusion that we should end affirmative action. The human value [MASK] supports this argument.\n",
      "The premise affirmative action helps with employment equity resonates with the human value of [MASK].\n"
     ]
    }
   ],
   "source": [
    "print(data[\"test\"][\"Argument_1_mask\"][0]) # full argument\n",
    "print(data[\"test\"][\"Argument_2_mask\"][0]) # only premise"
   ]
  },
  {
   "cell_type": "code",
   "execution_count": 10,
   "metadata": {},
   "outputs": [
    {
     "name": "stderr",
     "output_type": "stream",
     "text": [
      "100%|███████████████████████████████████████| 1576/1576 [01:23<00:00, 18.96it/s]\n",
      "100%|███████████████████████████████████████| 1576/1576 [01:21<00:00, 19.30it/s]\n"
     ]
    }
   ],
   "source": [
    "model_checkpoint = \"distilbert-base-uncased\"\n",
    "distilbert_model = AutoModelForMaskedLM.from_pretrained(model_checkpoint)\n",
    "distilbert_tokenizer = AutoTokenizer.from_pretrained(model_checkpoint)\n",
    "\n",
    "def get_predictions(column):\n",
    "\n",
    "    predictions = []\n",
    "\n",
    "    for text in tqdm(data[\"test\"][column]):\n",
    "\n",
    "        inputs = distilbert_tokenizer(text, return_tensors=\"pt\")\n",
    "        token_logits = distilbert_model(**inputs).logits\n",
    "        # Find the location of [MASK] and extract its logits\n",
    "        mask_token_index = torch.where(inputs[\"input_ids\"] == distilbert_tokenizer.mask_token_id)[1]\n",
    "        mask_token_logits = token_logits[0, mask_token_index, :]\n",
    "        # Pick the [MASK] candidates with the highest logits\n",
    "        top_tokens = torch.topk(mask_token_logits, 10, dim=1).indices[0].tolist()\n",
    "\n",
    "        pred = []\n",
    "        for token in top_tokens:\n",
    "            pred.append(distilbert_tokenizer.decode([token]))\n",
    "\n",
    "        predictions.append(pred)\n",
    "\n",
    "    return predictions\n",
    "\n",
    "\n",
    "predictions_1 = get_predictions(\"Argument_1_mask\")\n",
    "predictions_2 = get_predictions(\"Argument_2_mask\")"
   ]
  },
  {
   "cell_type": "markdown",
   "metadata": {},
   "source": [
    "# Map prediction to classes using word2vec"
   ]
  },
  {
   "cell_type": "code",
   "execution_count": 11,
   "metadata": {},
   "outputs": [],
   "source": [
    "word2vec_path = \"GoogleNews-vectors-negative300.bin\" # get this from: https://drive.google.com/file/d/0B7XkCwpI5KDYNlNUTTlSS21pQmM/edit?usp=sharing\n",
    "model = models.KeyedVectors.load_word2vec_format(word2vec_path, binary=True)"
   ]
  },
  {
   "cell_type": "code",
   "execution_count": 12,
   "metadata": {},
   "outputs": [],
   "source": [
    "def map_words_to_classes(candidate_words, classes, num_classes):\n",
    "    mappings = []\n",
    "\n",
    "    for candidate_word in candidate_words:\n",
    "        similarity_scores = []\n",
    "        for class_word in classes:\n",
    "            if candidate_word in model and class_word in model:\n",
    "                similarity = model.similarity(candidate_word, class_word)\n",
    "                similarity_scores.append(similarity)\n",
    "\n",
    "    similarity_scores = np.array(similarity_scores)\n",
    "    classes = np.array(classes)\n",
    "    top_indices = np.argsort(similarity_scores)[-num_classes:]\n",
    "    top_classes = [classes[i] for i in top_indices]\n",
    "    # print(top_classes)\n",
    "    mappings.append(top_classes)\n",
    "\n",
    "    return mappings\n",
    "\n",
    "labels = list(data[\"test\"][\"Labels_text\"])\n",
    "\n",
    "all_mappings_1 = []\n",
    "for pred, lab in zip(predictions_1, labels):\n",
    "    word_mappings = map_words_to_classes(pred, label_values_single, len(lab))\n",
    "    all_mappings_1.append(word_mappings[0])\n",
    "\n",
    "all_mappings_2 = []\n",
    "for pred, lab in zip(predictions_2, labels):\n",
    "    word_mappings = map_words_to_classes(pred, label_values_single, len(lab))\n",
    "    all_mappings_2.append(word_mappings[0])"
   ]
  },
  {
   "cell_type": "code",
   "execution_count": 13,
   "metadata": {},
   "outputs": [
    {
     "data": {
      "text/html": [
       "<div>\n",
       "<style scoped>\n",
       "    .dataframe tbody tr th:only-of-type {\n",
       "        vertical-align: middle;\n",
       "    }\n",
       "\n",
       "    .dataframe tbody tr th {\n",
       "        vertical-align: top;\n",
       "    }\n",
       "\n",
       "    .dataframe thead th {\n",
       "        text-align: right;\n",
       "    }\n",
       "</style>\n",
       "<table border=\"1\" class=\"dataframe\">\n",
       "  <thead>\n",
       "    <tr style=\"text-align: right;\">\n",
       "      <th></th>\n",
       "      <th>Argument ID</th>\n",
       "      <th>Conclusion</th>\n",
       "      <th>Stance</th>\n",
       "      <th>Premise</th>\n",
       "      <th>Labels</th>\n",
       "      <th>Labels_text</th>\n",
       "      <th>Argument_1</th>\n",
       "      <th>Argument_1_mask</th>\n",
       "      <th>Argument_2</th>\n",
       "      <th>Argument_2_mask</th>\n",
       "      <th>Prediction_1</th>\n",
       "      <th>Prediction_2</th>\n",
       "    </tr>\n",
       "  </thead>\n",
       "  <tbody>\n",
       "    <tr>\n",
       "      <th>0</th>\n",
       "      <td>A26004</td>\n",
       "      <td>We should end affirmative action</td>\n",
       "      <td>against</td>\n",
       "      <td>affirmative action helps with employment equity.</td>\n",
       "      <td>[0, 0, 0, 0, 1, 0, 0, 0, 1, 0, 0, 0, 0, 0, 0, ...</td>\n",
       "      <td>[Achievement, personal, concern, tolerance]</td>\n",
       "      <td>The premise affirmative action helps with empl...</td>\n",
       "      <td>The premise affirmative action helps with empl...</td>\n",
       "      <td>The premise affirmative action helps with empl...</td>\n",
       "      <td>The premise affirmative action helps with empl...</td>\n",
       "      <td>[tolerance, societal, resources, rules]</td>\n",
       "      <td>[Humility, dependability, Achievement, dominance]</td>\n",
       "    </tr>\n",
       "    <tr>\n",
       "      <th>1</th>\n",
       "      <td>A26010</td>\n",
       "      <td>We should end affirmative action</td>\n",
       "      <td>in favor of</td>\n",
       "      <td>affirmative action can be considered discrimin...</td>\n",
       "      <td>[0, 0, 0, 0, 1, 0, 0, 0, 0, 0, 0, 0, 0, 0, 0, ...</td>\n",
       "      <td>[Achievement, concern, tolerance, objectivity]</td>\n",
       "      <td>The premise affirmative action can be consider...</td>\n",
       "      <td>The premise affirmative action can be consider...</td>\n",
       "      <td>The premise affirmative action can be consider...</td>\n",
       "      <td>The premise affirmative action can be consider...</td>\n",
       "      <td>[nature, societal, dependability, rules]</td>\n",
       "      <td>[tolerance, societal, Hedonism, interpersonal]</td>\n",
       "    </tr>\n",
       "    <tr>\n",
       "      <th>2</th>\n",
       "      <td>A26016</td>\n",
       "      <td>We should ban naturopathy</td>\n",
       "      <td>in favor of</td>\n",
       "      <td>naturopathy is very dangerous for the most vul...</td>\n",
       "      <td>[0, 0, 0, 0, 1, 0, 0, 0, 1, 0, 0, 0, 0, 0, 0, ...</td>\n",
       "      <td>[Achievement, personal, dependability, concern]</td>\n",
       "      <td>The premise naturopathy is very dangerous for ...</td>\n",
       "      <td>The premise naturopathy is very dangerous for ...</td>\n",
       "      <td>The premise naturopathy is very dangerous for ...</td>\n",
       "      <td>The premise naturopathy is very dangerous for ...</td>\n",
       "      <td>[dependability, concern, tolerance, societal]</td>\n",
       "      <td>[Achievement, thought, personal, caring]</td>\n",
       "    </tr>\n",
       "    <tr>\n",
       "      <th>3</th>\n",
       "      <td>A26024</td>\n",
       "      <td>We should prohibit women in combat</td>\n",
       "      <td>in favor of</td>\n",
       "      <td>women shouldn't be in combat because they aren...</td>\n",
       "      <td>[0, 0, 0, 0, 1, 0, 0, 0, 0, 0, 0, 0, 0, 0, 0, ...</td>\n",
       "      <td>[Achievement]</td>\n",
       "      <td>The premise women shouldn't be in combat becau...</td>\n",
       "      <td>The premise women shouldn't be in combat becau...</td>\n",
       "      <td>The premise women shouldn't be in combat becau...</td>\n",
       "      <td>The premise women shouldn't be in combat becau...</td>\n",
       "      <td>[societal]</td>\n",
       "      <td>[dominance]</td>\n",
       "    </tr>\n",
       "    <tr>\n",
       "      <th>4</th>\n",
       "      <td>A26026</td>\n",
       "      <td>We should ban naturopathy</td>\n",
       "      <td>in favor of</td>\n",
       "      <td>once eradicated illnesses are returning due to...</td>\n",
       "      <td>[0, 0, 0, 0, 1, 0, 0, 0, 1, 1, 0, 0, 0, 0, 1, ...</td>\n",
       "      <td>[Achievement, personal, societal, caring, depe...</td>\n",
       "      <td>The premise once eradicated illnesses are retu...</td>\n",
       "      <td>The premise once eradicated illnesses are retu...</td>\n",
       "      <td>The premise once eradicated illnesses are retu...</td>\n",
       "      <td>The premise once eradicated illnesses are retu...</td>\n",
       "      <td>[nature, tolerance, societal, resources, rules]</td>\n",
       "      <td>[interpersonal, personal, caring, resources, s...</td>\n",
       "    </tr>\n",
       "  </tbody>\n",
       "</table>\n",
       "</div>"
      ],
      "text/plain": [
       "  Argument ID                          Conclusion       Stance  \\\n",
       "0      A26004    We should end affirmative action      against   \n",
       "1      A26010    We should end affirmative action  in favor of   \n",
       "2      A26016           We should ban naturopathy  in favor of   \n",
       "3      A26024  We should prohibit women in combat  in favor of   \n",
       "4      A26026           We should ban naturopathy  in favor of   \n",
       "\n",
       "                                             Premise  \\\n",
       "0   affirmative action helps with employment equity.   \n",
       "1  affirmative action can be considered discrimin...   \n",
       "2  naturopathy is very dangerous for the most vul...   \n",
       "3  women shouldn't be in combat because they aren...   \n",
       "4  once eradicated illnesses are returning due to...   \n",
       "\n",
       "                                              Labels  \\\n",
       "0  [0, 0, 0, 0, 1, 0, 0, 0, 1, 0, 0, 0, 0, 0, 0, ...   \n",
       "1  [0, 0, 0, 0, 1, 0, 0, 0, 0, 0, 0, 0, 0, 0, 0, ...   \n",
       "2  [0, 0, 0, 0, 1, 0, 0, 0, 1, 0, 0, 0, 0, 0, 0, ...   \n",
       "3  [0, 0, 0, 0, 1, 0, 0, 0, 0, 0, 0, 0, 0, 0, 0, ...   \n",
       "4  [0, 0, 0, 0, 1, 0, 0, 0, 1, 1, 0, 0, 0, 0, 1, ...   \n",
       "\n",
       "                                         Labels_text  \\\n",
       "0        [Achievement, personal, concern, tolerance]   \n",
       "1     [Achievement, concern, tolerance, objectivity]   \n",
       "2    [Achievement, personal, dependability, concern]   \n",
       "3                                      [Achievement]   \n",
       "4  [Achievement, personal, societal, caring, depe...   \n",
       "\n",
       "                                          Argument_1  \\\n",
       "0  The premise affirmative action helps with empl...   \n",
       "1  The premise affirmative action can be consider...   \n",
       "2  The premise naturopathy is very dangerous for ...   \n",
       "3  The premise women shouldn't be in combat becau...   \n",
       "4  The premise once eradicated illnesses are retu...   \n",
       "\n",
       "                                     Argument_1_mask  \\\n",
       "0  The premise affirmative action helps with empl...   \n",
       "1  The premise affirmative action can be consider...   \n",
       "2  The premise naturopathy is very dangerous for ...   \n",
       "3  The premise women shouldn't be in combat becau...   \n",
       "4  The premise once eradicated illnesses are retu...   \n",
       "\n",
       "                                          Argument_2  \\\n",
       "0  The premise affirmative action helps with empl...   \n",
       "1  The premise affirmative action can be consider...   \n",
       "2  The premise naturopathy is very dangerous for ...   \n",
       "3  The premise women shouldn't be in combat becau...   \n",
       "4  The premise once eradicated illnesses are retu...   \n",
       "\n",
       "                                     Argument_2_mask  \\\n",
       "0  The premise affirmative action helps with empl...   \n",
       "1  The premise affirmative action can be consider...   \n",
       "2  The premise naturopathy is very dangerous for ...   \n",
       "3  The premise women shouldn't be in combat becau...   \n",
       "4  The premise once eradicated illnesses are retu...   \n",
       "\n",
       "                                      Prediction_1  \\\n",
       "0          [tolerance, societal, resources, rules]   \n",
       "1         [nature, societal, dependability, rules]   \n",
       "2    [dependability, concern, tolerance, societal]   \n",
       "3                                       [societal]   \n",
       "4  [nature, tolerance, societal, resources, rules]   \n",
       "\n",
       "                                        Prediction_2  \n",
       "0  [Humility, dependability, Achievement, dominance]  \n",
       "1     [tolerance, societal, Hedonism, interpersonal]  \n",
       "2           [Achievement, thought, personal, caring]  \n",
       "3                                        [dominance]  \n",
       "4  [interpersonal, personal, caring, resources, s...  "
      ]
     },
     "execution_count": 13,
     "metadata": {},
     "output_type": "execute_result"
    }
   ],
   "source": [
    "data[\"test\"][\"Prediction_1\"] = all_mappings_1\n",
    "data[\"test\"][\"Prediction_2\"] = all_mappings_2\n",
    "data[\"test\"].head()"
   ]
  },
  {
   "cell_type": "code",
   "execution_count": 14,
   "metadata": {},
   "outputs": [
    {
     "data": {
      "text/html": [
       "<div>\n",
       "<style scoped>\n",
       "    .dataframe tbody tr th:only-of-type {\n",
       "        vertical-align: middle;\n",
       "    }\n",
       "\n",
       "    .dataframe tbody tr th {\n",
       "        vertical-align: top;\n",
       "    }\n",
       "\n",
       "    .dataframe thead th {\n",
       "        text-align: right;\n",
       "    }\n",
       "</style>\n",
       "<table border=\"1\" class=\"dataframe\">\n",
       "  <thead>\n",
       "    <tr style=\"text-align: right;\">\n",
       "      <th></th>\n",
       "      <th>Argument ID</th>\n",
       "      <th>Conclusion</th>\n",
       "      <th>Stance</th>\n",
       "      <th>Premise</th>\n",
       "      <th>Labels</th>\n",
       "      <th>Labels_text</th>\n",
       "      <th>Argument_1</th>\n",
       "      <th>Argument_1_mask</th>\n",
       "      <th>Argument_2</th>\n",
       "      <th>Argument_2_mask</th>\n",
       "      <th>Prediction_1</th>\n",
       "      <th>Prediction_2</th>\n",
       "      <th>Pred_1_one_hot</th>\n",
       "      <th>Pred_2_one_hot</th>\n",
       "    </tr>\n",
       "  </thead>\n",
       "  <tbody>\n",
       "    <tr>\n",
       "      <th>0</th>\n",
       "      <td>A26004</td>\n",
       "      <td>We should end affirmative action</td>\n",
       "      <td>against</td>\n",
       "      <td>affirmative action helps with employment equity.</td>\n",
       "      <td>[0, 0, 0, 0, 1, 0, 0, 0, 1, 0, 0, 0, 0, 0, 0, ...</td>\n",
       "      <td>[Achievement, personal, concern, tolerance]</td>\n",
       "      <td>The premise affirmative action helps with empl...</td>\n",
       "      <td>The premise affirmative action helps with empl...</td>\n",
       "      <td>The premise affirmative action helps with empl...</td>\n",
       "      <td>The premise affirmative action helps with empl...</td>\n",
       "      <td>[tolerance, societal, resources, rules]</td>\n",
       "      <td>[Humility, dependability, Achievement, dominance]</td>\n",
       "      <td>[0, 0, 0, 0, 0, 0, 1, 0, 0, 1, 0, 1, 0, 0, 0, ...</td>\n",
       "      <td>[0, 0, 0, 0, 1, 1, 0, 0, 0, 0, 0, 0, 0, 1, 0, ...</td>\n",
       "    </tr>\n",
       "    <tr>\n",
       "      <th>1</th>\n",
       "      <td>A26010</td>\n",
       "      <td>We should end affirmative action</td>\n",
       "      <td>in favor of</td>\n",
       "      <td>affirmative action can be considered discrimin...</td>\n",
       "      <td>[0, 0, 0, 0, 1, 0, 0, 0, 0, 0, 0, 0, 0, 0, 0, ...</td>\n",
       "      <td>[Achievement, concern, tolerance, objectivity]</td>\n",
       "      <td>The premise affirmative action can be consider...</td>\n",
       "      <td>The premise affirmative action can be consider...</td>\n",
       "      <td>The premise affirmative action can be consider...</td>\n",
       "      <td>The premise affirmative action can be consider...</td>\n",
       "      <td>[nature, societal, dependability, rules]</td>\n",
       "      <td>[tolerance, societal, Hedonism, interpersonal]</td>\n",
       "      <td>[0, 0, 0, 0, 0, 0, 0, 0, 0, 1, 0, 1, 0, 0, 0, ...</td>\n",
       "      <td>[0, 0, 0, 1, 0, 0, 0, 0, 0, 1, 0, 0, 1, 0, 0, ...</td>\n",
       "    </tr>\n",
       "    <tr>\n",
       "      <th>2</th>\n",
       "      <td>A26016</td>\n",
       "      <td>We should ban naturopathy</td>\n",
       "      <td>in favor of</td>\n",
       "      <td>naturopathy is very dangerous for the most vul...</td>\n",
       "      <td>[0, 0, 0, 0, 1, 0, 0, 0, 1, 0, 0, 0, 0, 0, 0, ...</td>\n",
       "      <td>[Achievement, personal, dependability, concern]</td>\n",
       "      <td>The premise naturopathy is very dangerous for ...</td>\n",
       "      <td>The premise naturopathy is very dangerous for ...</td>\n",
       "      <td>The premise naturopathy is very dangerous for ...</td>\n",
       "      <td>The premise naturopathy is very dangerous for ...</td>\n",
       "      <td>[dependability, concern, tolerance, societal]</td>\n",
       "      <td>[Achievement, thought, personal, caring]</td>\n",
       "      <td>[0, 0, 0, 0, 0, 0, 0, 0, 0, 1, 0, 0, 0, 0, 0, ...</td>\n",
       "      <td>[1, 0, 0, 0, 1, 0, 0, 0, 1, 0, 0, 0, 0, 0, 1, ...</td>\n",
       "    </tr>\n",
       "    <tr>\n",
       "      <th>3</th>\n",
       "      <td>A26024</td>\n",
       "      <td>We should prohibit women in combat</td>\n",
       "      <td>in favor of</td>\n",
       "      <td>women shouldn't be in combat because they aren...</td>\n",
       "      <td>[0, 0, 0, 0, 1, 0, 0, 0, 0, 0, 0, 0, 0, 0, 0, ...</td>\n",
       "      <td>[Achievement]</td>\n",
       "      <td>The premise women shouldn't be in combat becau...</td>\n",
       "      <td>The premise women shouldn't be in combat becau...</td>\n",
       "      <td>The premise women shouldn't be in combat becau...</td>\n",
       "      <td>The premise women shouldn't be in combat becau...</td>\n",
       "      <td>[societal]</td>\n",
       "      <td>[dominance]</td>\n",
       "      <td>[0, 0, 0, 0, 0, 0, 0, 0, 0, 1, 0, 0, 0, 0, 0, ...</td>\n",
       "      <td>[0, 0, 0, 0, 0, 1, 0, 0, 0, 0, 0, 0, 0, 0, 0, ...</td>\n",
       "    </tr>\n",
       "    <tr>\n",
       "      <th>4</th>\n",
       "      <td>A26026</td>\n",
       "      <td>We should ban naturopathy</td>\n",
       "      <td>in favor of</td>\n",
       "      <td>once eradicated illnesses are returning due to...</td>\n",
       "      <td>[0, 0, 0, 0, 1, 0, 0, 0, 1, 1, 0, 0, 0, 0, 1, ...</td>\n",
       "      <td>[Achievement, personal, societal, caring, depe...</td>\n",
       "      <td>The premise once eradicated illnesses are retu...</td>\n",
       "      <td>The premise once eradicated illnesses are retu...</td>\n",
       "      <td>The premise once eradicated illnesses are retu...</td>\n",
       "      <td>The premise once eradicated illnesses are retu...</td>\n",
       "      <td>[nature, tolerance, societal, resources, rules]</td>\n",
       "      <td>[interpersonal, personal, caring, resources, s...</td>\n",
       "      <td>[0, 0, 0, 0, 0, 0, 1, 0, 0, 1, 0, 1, 0, 0, 0, ...</td>\n",
       "      <td>[0, 0, 0, 0, 0, 0, 1, 0, 1, 1, 0, 0, 1, 0, 1, ...</td>\n",
       "    </tr>\n",
       "  </tbody>\n",
       "</table>\n",
       "</div>"
      ],
      "text/plain": [
       "  Argument ID                          Conclusion       Stance  \\\n",
       "0      A26004    We should end affirmative action      against   \n",
       "1      A26010    We should end affirmative action  in favor of   \n",
       "2      A26016           We should ban naturopathy  in favor of   \n",
       "3      A26024  We should prohibit women in combat  in favor of   \n",
       "4      A26026           We should ban naturopathy  in favor of   \n",
       "\n",
       "                                             Premise  \\\n",
       "0   affirmative action helps with employment equity.   \n",
       "1  affirmative action can be considered discrimin...   \n",
       "2  naturopathy is very dangerous for the most vul...   \n",
       "3  women shouldn't be in combat because they aren...   \n",
       "4  once eradicated illnesses are returning due to...   \n",
       "\n",
       "                                              Labels  \\\n",
       "0  [0, 0, 0, 0, 1, 0, 0, 0, 1, 0, 0, 0, 0, 0, 0, ...   \n",
       "1  [0, 0, 0, 0, 1, 0, 0, 0, 0, 0, 0, 0, 0, 0, 0, ...   \n",
       "2  [0, 0, 0, 0, 1, 0, 0, 0, 1, 0, 0, 0, 0, 0, 0, ...   \n",
       "3  [0, 0, 0, 0, 1, 0, 0, 0, 0, 0, 0, 0, 0, 0, 0, ...   \n",
       "4  [0, 0, 0, 0, 1, 0, 0, 0, 1, 1, 0, 0, 0, 0, 1, ...   \n",
       "\n",
       "                                         Labels_text  \\\n",
       "0        [Achievement, personal, concern, tolerance]   \n",
       "1     [Achievement, concern, tolerance, objectivity]   \n",
       "2    [Achievement, personal, dependability, concern]   \n",
       "3                                      [Achievement]   \n",
       "4  [Achievement, personal, societal, caring, depe...   \n",
       "\n",
       "                                          Argument_1  \\\n",
       "0  The premise affirmative action helps with empl...   \n",
       "1  The premise affirmative action can be consider...   \n",
       "2  The premise naturopathy is very dangerous for ...   \n",
       "3  The premise women shouldn't be in combat becau...   \n",
       "4  The premise once eradicated illnesses are retu...   \n",
       "\n",
       "                                     Argument_1_mask  \\\n",
       "0  The premise affirmative action helps with empl...   \n",
       "1  The premise affirmative action can be consider...   \n",
       "2  The premise naturopathy is very dangerous for ...   \n",
       "3  The premise women shouldn't be in combat becau...   \n",
       "4  The premise once eradicated illnesses are retu...   \n",
       "\n",
       "                                          Argument_2  \\\n",
       "0  The premise affirmative action helps with empl...   \n",
       "1  The premise affirmative action can be consider...   \n",
       "2  The premise naturopathy is very dangerous for ...   \n",
       "3  The premise women shouldn't be in combat becau...   \n",
       "4  The premise once eradicated illnesses are retu...   \n",
       "\n",
       "                                     Argument_2_mask  \\\n",
       "0  The premise affirmative action helps with empl...   \n",
       "1  The premise affirmative action can be consider...   \n",
       "2  The premise naturopathy is very dangerous for ...   \n",
       "3  The premise women shouldn't be in combat becau...   \n",
       "4  The premise once eradicated illnesses are retu...   \n",
       "\n",
       "                                      Prediction_1  \\\n",
       "0          [tolerance, societal, resources, rules]   \n",
       "1         [nature, societal, dependability, rules]   \n",
       "2    [dependability, concern, tolerance, societal]   \n",
       "3                                       [societal]   \n",
       "4  [nature, tolerance, societal, resources, rules]   \n",
       "\n",
       "                                        Prediction_2  \\\n",
       "0  [Humility, dependability, Achievement, dominance]   \n",
       "1     [tolerance, societal, Hedonism, interpersonal]   \n",
       "2           [Achievement, thought, personal, caring]   \n",
       "3                                        [dominance]   \n",
       "4  [interpersonal, personal, caring, resources, s...   \n",
       "\n",
       "                                      Pred_1_one_hot  \\\n",
       "0  [0, 0, 0, 0, 0, 0, 1, 0, 0, 1, 0, 1, 0, 0, 0, ...   \n",
       "1  [0, 0, 0, 0, 0, 0, 0, 0, 0, 1, 0, 1, 0, 0, 0, ...   \n",
       "2  [0, 0, 0, 0, 0, 0, 0, 0, 0, 1, 0, 0, 0, 0, 0, ...   \n",
       "3  [0, 0, 0, 0, 0, 0, 0, 0, 0, 1, 0, 0, 0, 0, 0, ...   \n",
       "4  [0, 0, 0, 0, 0, 0, 1, 0, 0, 1, 0, 1, 0, 0, 0, ...   \n",
       "\n",
       "                                      Pred_2_one_hot  \n",
       "0  [0, 0, 0, 0, 1, 1, 0, 0, 0, 0, 0, 0, 0, 1, 0, ...  \n",
       "1  [0, 0, 0, 1, 0, 0, 0, 0, 0, 1, 0, 0, 1, 0, 0, ...  \n",
       "2  [1, 0, 0, 0, 1, 0, 0, 0, 1, 0, 0, 0, 0, 0, 1, ...  \n",
       "3  [0, 0, 0, 0, 0, 1, 0, 0, 0, 0, 0, 0, 0, 0, 0, ...  \n",
       "4  [0, 0, 0, 0, 0, 0, 1, 0, 1, 1, 0, 0, 1, 0, 1, ...  "
      ]
     },
     "execution_count": 14,
     "metadata": {},
     "output_type": "execute_result"
    }
   ],
   "source": [
    "def one_hot_encode(words):\n",
    "    encoding = np.zeros(len(label_values_single), dtype=int)\n",
    "    for word in words:\n",
    "        if word in label_values_single:\n",
    "            encoding[label_values_single.index(word)] = 1\n",
    "    return encoding\n",
    "\n",
    "data[\"test\"]['Pred_1_one_hot'] = data[\"test\"]['Prediction_1'].apply(lambda x: one_hot_encode(x))\n",
    "data[\"test\"]['Pred_2_one_hot'] = data[\"test\"]['Prediction_2'].apply(lambda x: one_hot_encode(x))\n",
    "\n",
    "data[\"test\"].head()"
   ]
  },
  {
   "cell_type": "code",
   "execution_count": 15,
   "metadata": {},
   "outputs": [
    {
     "data": {
      "image/png": "[encoded data removed]",
      "text/plain": [
       "<Figure size 720x432 with 1 Axes>"
      ]
     },
     "metadata": {
      "needs_background": "light"
     },
     "output_type": "display_data"
    }
   ],
   "source": [
    "flat_strings1 = [item for sublist in data[\"test\"]['Prediction_1'] for item in sublist]\n",
    "flat_strings2 = [item for sublist in data[\"test\"]['Prediction_2'] for item in sublist]\n",
    "\n",
    "string_counts1 = pd.Series(flat_strings1).value_counts()\n",
    "string_counts2 = pd.Series(flat_strings2).value_counts()\n",
    "\n",
    "unique_strings = list(set(string_counts1.index) | set(string_counts2.index))\n",
    "\n",
    "string_counts1 = string_counts1.reindex(unique_strings, fill_value=0)\n",
    "string_counts2 = string_counts2.reindex(unique_strings, fill_value=0)\n",
    "\n",
    "x = np.arange(len(unique_strings))\n",
    "\n",
    "width = 0.35\n",
    "fig, ax = plt.subplots(figsize=(10, 6))\n",
    "rects1 = ax.bar(x - width/2, string_counts1, width, label='Full argument prompt')\n",
    "rects2 = ax.bar(x + width/2, string_counts2, width, label='Premise only prompt')\n",
    "\n",
    "ax.set_xlabel('Values')\n",
    "ax.set_ylabel('Count')\n",
    "ax.set_title('Distribution of Values after Word2Vec')\n",
    "ax.set_xticks(x)\n",
    "ax.set_xticklabels([x.title() for x in unique_strings], rotation=90)\n",
    "ax.legend()\n",
    "\n",
    "plt.tight_layout()\n",
    "saveplot(\"word2vec_dist\")\n",
    "plt.show()"
   ]
  },
  {
   "cell_type": "code",
   "execution_count": 16,
   "metadata": {},
   "outputs": [],
   "source": [
    "def one_hot_encode(words):\n",
    "    encoding = np.zeros(len(label_values_single), dtype=int)\n",
    "    for word in words:\n",
    "        if word in label_values_single:\n",
    "            encoding[label_values_single.index(word)] = 1\n",
    "    return encoding\n",
    "\n",
    "\n",
    "def test_mlm(data, classes, type=1):\n",
    "\n",
    "    data[f\"Pred_{type}_one_hot\"] = data[f'Prediction_{type}'].apply(lambda x: one_hot_encode(x))\n",
    "\n",
    "    pred = np.array([x for x in data[f\"Pred_{type}_one_hot\"]]) \n",
    "    \n",
    "    true = np.array([x for x in data[\"Labels\"]])\n",
    "    f1_scores = f1_score_per_label(pred, true, classes)\n",
    "    \n",
    "    return f1_scores\n",
    "\n",
    "\n",
    "f1_scores_mlm_1 = test_mlm(data[\"test\"], classes, type=1)\n",
    "f1_scores_mlm_2 = test_mlm(data[\"test\"], classes, type=2)"
   ]
  },
  {
   "cell_type": "code",
   "execution_count": 17,
   "metadata": {},
   "outputs": [
    {
     "name": "stderr",
     "output_type": "stream",
     "text": [
      "You're using a RobertaTokenizerFast tokenizer. Please note that with a fast tokenizer, using the `__call__` method is faster than using a method to encode the text followed by a call to the `pad` method to get a padded encoding.\n"
     ]
    },
    {
     "data": {
      "text/html": [],
      "text/plain": [
       "<IPython.core.display.HTML object>"
      ]
     },
     "metadata": {},
     "output_type": "display_data"
    },
    {
     "name": "stdout",
     "output_type": "stream",
     "text": [
      "{'Self-direction: thought': 0.53, 'Self-direction: action': 0.59, 'Stimulation': 0.13, 'Hedonism': 0.24, 'Achievement': 0.57, 'Power: dominance': 0.44, 'Power: resources': 0.48, 'Face': 0.2, 'Security: personal': 0.7, 'Security: societal': 0.6, 'Tradition': 0.57, 'Conformity: rules': 0.44, 'Conformity: interpersonal': 0.34, 'Humility': 0.14, 'Benevolence: caring': 0.51, 'Benevolence: dependability': 0.24, 'Universalism: concern': 0.72, 'Universalism: nature': 0.77, 'Universalism: tolerance': 0.35, 'Universalism: objectivity': 0.4, 'avg-f1-score': 0.45}\n"
     ]
    },
    {
     "name": "stderr",
     "output_type": "stream",
     "text": [
      "You're using a DistilBertTokenizerFast tokenizer. Please note that with a fast tokenizer, using the `__call__` method is faster than using a method to encode the text followed by a call to the `pad` method to get a padded encoding.\n"
     ]
    },
    {
     "data": {
      "text/html": [],
      "text/plain": [
       "<IPython.core.display.HTML object>"
      ]
     },
     "metadata": {},
     "output_type": "display_data"
    },
    {
     "name": "stdout",
     "output_type": "stream",
     "text": [
      "{'Self-direction: thought': 0.45, 'Self-direction: action': 0.56, 'Stimulation': 0.08, 'Hedonism': 0.15, 'Achievement': 0.54, 'Power: dominance': 0.29, 'Power: resources': 0.44, 'Face': 0.09, 'Security: personal': 0.71, 'Security: societal': 0.57, 'Tradition': 0.37, 'Conformity: rules': 0.46, 'Conformity: interpersonal': 0.09, 'Humility': 0.12, 'Benevolence: caring': 0.43, 'Benevolence: dependability': 0.25, 'Universalism: concern': 0.67, 'Universalism: nature': 0.72, 'Universalism: tolerance': 0.31, 'Universalism: objectivity': 0.44, 'avg-f1-score': 0.39}\n"
     ]
    }
   ],
   "source": [
    "f1_scores_roberta_aug_test = test(data[\"test\"], classes, \"nikolai40/human-values-roberta-aug\", \"roberta-base\")\n",
    "f1_scores_distilbert_aug_test = test(data[\"test\"], classes, \"nikolai40/human-values-distilbert-aug\", \"distilbert-base-uncased\")\n",
    "bert_website_test = [0.44,0.55,0.05,0.20,0.56,0.29,0.44,0.13,0.74,0.59,0.43,0.47,0.23,0.07,0.46,0.14,0.67,0.71,0.32,0.33, 0.42]"
   ]
  },
  {
   "cell_type": "code",
   "execution_count": 18,
   "metadata": {},
   "outputs": [
    {
     "data": {
      "image/png": "[encoded data removed]",
      "text/plain": [
       "<Figure size 1080x432 with 1 Axes>"
      ]
     },
     "metadata": {
      "needs_background": "light"
     },
     "output_type": "display_data"
    }
   ],
   "source": [
    "df = pd.DataFrame({\"Human Value\": f1_scores_distilbert_aug_test.keys(),\n",
    "                   \"Bert (scores from paper)\": bert_website_test, \n",
    "                   \"Distilbert\": f1_scores_distilbert_aug_test.values(),\n",
    "                   \"Roberta\": f1_scores_roberta_aug_test.values(),\n",
    "                   \"Distilbert MLM 1\": f1_scores_mlm_1.values(),\n",
    "                   \"Distilbert MLM 2\": f1_scores_mlm_2.values()})\n",
    "\n",
    "df.head()\n",
    "plt.rcParams[\"figure.figsize\"] = (15,6)\n",
    "df.plot(x=\"Human Value\", y=[\"Bert (scores from paper)\", \"Distilbert\", \"Roberta\", \"Distilbert MLM 1\", \"Distilbert MLM 2\"], kind=\"bar\")\n",
    "plt.title(\"Performance on Test Set\")\n",
    "plt.ylabel(\"F1-score\")\n",
    "saveplot(\"final_results\")\n",
    "plt.show()"
   ]
  },
  {
   "cell_type": "code",
   "execution_count": 19,
   "metadata": {},
   "outputs": [
    {
     "name": "stdout",
     "output_type": "stream",
     "text": [
      "KruskalResult(statistic=39.776235480446374, pvalue=4.8150357592114824e-08)\n",
      "\n",
      "           1         2         3         4         5\n",
      "1  1.000000  1.000000  1.000000  0.002290  0.001113\n",
      "2  1.000000  1.000000  1.000000  0.001837  0.000884\n",
      "3  1.000000  1.000000  1.000000  0.000102  0.000044\n",
      "4  0.002290  0.001837  0.000102  1.000000  1.000000\n",
      "5  0.001113  0.000884  0.000044  1.000000  1.000000 \n",
      "\n",
      "KruskalResult(statistic=0.6360578540194994, pvalue=0.727581741346057)\n"
     ]
    }
   ],
   "source": [
    "groups_1 = [bert_website_test, f1_scores_distilbert.values(), f1_scores_roberta.values(), f1_scores_mlm_1.values(), f1_scores_mlm_2.values()]\n",
    "groups_1 = [list(x) for x in groups_1]\n",
    "\n",
    "groups_2 = [bert_website_test, f1_scores_distilbert.values(), f1_scores_roberta.values()]\n",
    "groups_2 = [list(x) for x in groups_2]\n",
    "\n",
    "print(stats.kruskal(*groups_1))\n",
    "print(\"\\n\", sp.posthoc_dunn(groups_1, p_adjust=\"bonferroni\"), \"\\n\")\n",
    "\n",
    "print(stats.kruskal(*groups_2)) # without mask models"
   ]
  }
 ],
 "metadata": {
  "kernelspec": {
   "display_name": "Python 3 (ipykernel)",
   "language": "python",
   "name": "python3"
  },
  "language_info": {
   "codemirror_mode": {
    "name": "ipython",
    "version": 3
   },
   "file_extension": ".py",
   "mimetype": "text/x-python",
   "name": "python",
   "nbconvert_exporter": "python",
   "pygments_lexer": "ipython3",
   "version": "3.11.3"
  }
 },
 "nbformat": 4,
 "nbformat_minor": 2
}
