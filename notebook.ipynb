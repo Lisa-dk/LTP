{
 "cells": [
  {
   "attachments": {},
   "cell_type": "markdown",
   "metadata": {},
   "source": [
    "# Imports"
   ]
  },
  {
   "cell_type": "code",
   "execution_count": 3,
   "metadata": {},
   "outputs": [
    {
     "name": "stdout",
     "output_type": "stream",
     "text": [
      "Requirement already satisfied: transformers in /Users/lisakoopmans/miniforge3/envs/py309/lib/python3.9/site-packages (4.16.2)\n",
      "Requirement already satisfied: datasets in /Users/lisakoopmans/miniforge3/envs/py309/lib/python3.9/site-packages (2.9.0)\n",
      "Requirement already satisfied: tokenizers in /Users/lisakoopmans/miniforge3/envs/py309/lib/python3.9/site-packages (0.13.2)\n",
      "Requirement already satisfied: evaluate in /Users/lisakoopmans/miniforge3/envs/py309/lib/python3.9/site-packages (0.4.0)\n",
      "Requirement already satisfied: filelock in /Users/lisakoopmans/miniforge3/envs/py309/lib/python3.9/site-packages (from transformers) (3.9.0)\n",
      "Requirement already satisfied: huggingface-hub<1.0,>=0.1.0 in /Users/lisakoopmans/miniforge3/envs/py309/lib/python3.9/site-packages (from transformers) (0.12.0)\n",
      "Requirement already satisfied: tqdm>=4.27 in /Users/lisakoopmans/miniforge3/envs/py309/lib/python3.9/site-packages (from transformers) (4.64.1)\n",
      "Requirement already satisfied: packaging>=20.0 in /Users/lisakoopmans/miniforge3/envs/py309/lib/python3.9/site-packages (from transformers) (23.0)\n",
      "Requirement already satisfied: pyyaml>=5.1 in /Users/lisakoopmans/miniforge3/envs/py309/lib/python3.9/site-packages (from transformers) (6.0)\n",
      "Requirement already satisfied: numpy>=1.17 in /Users/lisakoopmans/miniforge3/envs/py309/lib/python3.9/site-packages (from transformers) (1.23.2)\n",
      "Requirement already satisfied: sacremoses in /Users/lisakoopmans/miniforge3/envs/py309/lib/python3.9/site-packages (from transformers) (0.0.53)\n",
      "Requirement already satisfied: requests in /Users/lisakoopmans/miniforge3/envs/py309/lib/python3.9/site-packages (from transformers) (2.28.2)\n",
      "Requirement already satisfied: regex!=2019.12.17 in /Users/lisakoopmans/miniforge3/envs/py309/lib/python3.9/site-packages (from transformers) (2022.10.31)\n",
      "Requirement already satisfied: dill<0.3.7 in /Users/lisakoopmans/miniforge3/envs/py309/lib/python3.9/site-packages (from datasets) (0.3.6)\n",
      "Requirement already satisfied: pyarrow>=6.0.0 in /Users/lisakoopmans/miniforge3/envs/py309/lib/python3.9/site-packages (from datasets) (11.0.0)\n",
      "Requirement already satisfied: xxhash in /Users/lisakoopmans/miniforge3/envs/py309/lib/python3.9/site-packages (from datasets) (3.2.0)\n",
      "Requirement already satisfied: multiprocess in /Users/lisakoopmans/miniforge3/envs/py309/lib/python3.9/site-packages (from datasets) (0.70.14)\n",
      "Requirement already satisfied: fsspec[http]>=2021.11.1 in /Users/lisakoopmans/miniforge3/envs/py309/lib/python3.9/site-packages (from datasets) (2023.1.0)\n",
      "Requirement already satisfied: pandas in /Users/lisakoopmans/miniforge3/envs/py309/lib/python3.9/site-packages (from datasets) (1.5.3)\n",
      "Requirement already satisfied: responses<0.19 in /Users/lisakoopmans/miniforge3/envs/py309/lib/python3.9/site-packages (from datasets) (0.18.0)\n",
      "Requirement already satisfied: aiohttp in /Users/lisakoopmans/miniforge3/envs/py309/lib/python3.9/site-packages (from datasets) (3.8.4)\n",
      "Requirement already satisfied: async-timeout<5.0,>=4.0.0a3 in /Users/lisakoopmans/miniforge3/envs/py309/lib/python3.9/site-packages (from aiohttp->datasets) (4.0.2)\n",
      "Requirement already satisfied: frozenlist>=1.1.1 in /Users/lisakoopmans/miniforge3/envs/py309/lib/python3.9/site-packages (from aiohttp->datasets) (1.3.3)\n",
      "Requirement already satisfied: charset-normalizer<4.0,>=2.0 in /Users/lisakoopmans/miniforge3/envs/py309/lib/python3.9/site-packages (from aiohttp->datasets) (3.0.1)\n",
      "Requirement already satisfied: aiosignal>=1.1.2 in /Users/lisakoopmans/miniforge3/envs/py309/lib/python3.9/site-packages (from aiohttp->datasets) (1.3.1)\n",
      "Requirement already satisfied: multidict<7.0,>=4.5 in /Users/lisakoopmans/miniforge3/envs/py309/lib/python3.9/site-packages (from aiohttp->datasets) (6.0.4)\n",
      "Requirement already satisfied: yarl<2.0,>=1.0 in /Users/lisakoopmans/miniforge3/envs/py309/lib/python3.9/site-packages (from aiohttp->datasets) (1.8.2)\n",
      "Requirement already satisfied: attrs>=17.3.0 in /Users/lisakoopmans/miniforge3/envs/py309/lib/python3.9/site-packages (from aiohttp->datasets) (22.2.0)\n",
      "Requirement already satisfied: typing-extensions>=3.7.4.3 in /Users/lisakoopmans/miniforge3/envs/py309/lib/python3.9/site-packages (from huggingface-hub<1.0,>=0.1.0->transformers) (4.5.0)\n",
      "Requirement already satisfied: certifi>=2017.4.17 in /Users/lisakoopmans/miniforge3/envs/py309/lib/python3.9/site-packages (from requests->transformers) (2022.12.7)\n",
      "Requirement already satisfied: idna<4,>=2.5 in /Users/lisakoopmans/miniforge3/envs/py309/lib/python3.9/site-packages (from requests->transformers) (3.4)\n",
      "Requirement already satisfied: urllib3<1.27,>=1.21.1 in /Users/lisakoopmans/miniforge3/envs/py309/lib/python3.9/site-packages (from requests->transformers) (1.26.14)\n",
      "Requirement already satisfied: python-dateutil>=2.8.1 in /Users/lisakoopmans/miniforge3/envs/py309/lib/python3.9/site-packages (from pandas->datasets) (2.8.2)\n",
      "Requirement already satisfied: pytz>=2020.1 in /Users/lisakoopmans/miniforge3/envs/py309/lib/python3.9/site-packages (from pandas->datasets) (2022.7.1)\n",
      "Requirement already satisfied: click in /Users/lisakoopmans/miniforge3/envs/py309/lib/python3.9/site-packages (from sacremoses->transformers) (8.1.3)\n",
      "Requirement already satisfied: six in /Users/lisakoopmans/miniforge3/envs/py309/lib/python3.9/site-packages (from sacremoses->transformers) (1.16.0)\n",
      "Requirement already satisfied: joblib in /Users/lisakoopmans/miniforge3/envs/py309/lib/python3.9/site-packages (from sacremoses->transformers) (1.2.0)\n"
     ]
    }
   ],
   "source": [
    "import sys\n",
    "!{sys.executable} -m pip install transformers datasets tokenizers evaluate\n",
    "import datasets"
   ]
  },
  {
   "cell_type": "code",
   "execution_count": 35,
   "metadata": {},
   "outputs": [
    {
     "name": "stderr",
     "output_type": "stream",
     "text": [
      "Using custom data configuration webis--Touche23-ValueEval-6979f60cf05ee731\n",
      "Found cached dataset csv (/Users/lisakoopmans/.cache/huggingface/datasets/webis___csv/webis--Touche23-ValueEval-6979f60cf05ee731/0.0.0/6b34fb8fcf56f7c8ba51dc895bfa2bfbe43546f190a60fcf74bb5e8afdcc2317)\n"
     ]
    },
    {
     "data": {
      "application/vnd.jupyter.widget-view+json": {
       "model_id": "e729b383ef2e410b8ff6d902ae644a50",
       "version_major": 2,
       "version_minor": 0
      },
      "text/plain": [
       "  0%|          | 0/3 [00:00<?, ?it/s]"
      ]
     },
     "metadata": {},
     "output_type": "display_data"
    },
    {
     "name": "stdout",
     "output_type": "stream",
     "text": [
      "5393\n",
      "1896\n",
      "DatasetDict({\n",
      "    validation: Dataset({\n",
      "        features: ['Argument ID', 'Conclusion', 'Stance', 'Premise', 'Labels'],\n",
      "        num_rows: 1896\n",
      "    })\n",
      "    validationzhihu: Dataset({\n",
      "        features: ['Argument ID', 'Conclusion', 'Stance', 'Premise', 'Labels'],\n",
      "        num_rows: 100\n",
      "    })\n",
      "    training: Dataset({\n",
      "        features: ['Argument ID', 'Conclusion', 'Stance', 'Premise', 'Labels'],\n",
      "        num_rows: 5393\n",
      "    })\n",
      "})\n"
     ]
    }
   ],
   "source": [
    "data = datasets.load_dataset('webis/Touche23-ValueEval')\n",
    "data[\"training\"].to_pandas().head()\n",
    "print(len(data['training']))\n",
    "print(len(data['validation']))\n",
    "print(len(data['validationzhihu']))\n"
   ]
  },
  {
   "cell_type": "code",
   "execution_count": 30,
   "metadata": {},
   "outputs": [
    {
     "name": "stdout",
     "output_type": "stream",
     "text": [
      "5393\n"
     ]
    }
   ],
   "source": [
    "def labels_to_list(labels_string):\n",
    "    return [int(label) for label in labels_string[1:-1].split(',')]\n",
    "\n",
    "data_train = data['training'].to_pandas()\n",
    "data_train['Labels'] = data_train['Labels'].map(lambda x: labels_to_list(x))\n",
    "\n",
    "print(len(data_train))"
   ]
  }
 ],
 "metadata": {
  "kernelspec": {
   "display_name": "py309",
   "language": "python",
   "name": "python3"
  },
  "language_info": {
   "codemirror_mode": {
    "name": "ipython",
    "version": 3
   },
   "file_extension": ".py",
   "mimetype": "text/x-python",
   "name": "python",
   "nbconvert_exporter": "python",
   "pygments_lexer": "ipython3",
   "version": "3.9.16"
  },
  "orig_nbformat": 4
 },
 "nbformat": 4,
 "nbformat_minor": 2
}
